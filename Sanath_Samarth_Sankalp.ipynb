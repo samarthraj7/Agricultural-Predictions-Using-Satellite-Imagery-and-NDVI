{
  "cells": [
    {
      "cell_type": "code",
      "execution_count": null,
      "metadata": {
        "colab": {
          "base_uri": "https://localhost:8080/"
        },
        "id": "1KNyviK21Xt_",
        "outputId": "eeb42fd6-98e3-4105-c89b-ed278d24c1a3"
      },
      "outputs": [
        {
          "output_type": "stream",
          "name": "stdout",
          "text": [
            "Archive:  data.zip\n",
            "   creating: data/2010/\n",
            "  inflating: data/2010/april.csv     \n",
            "  inflating: data/2010/august.csv    \n",
            "  inflating: data/2010/december.csv  \n",
            "  inflating: data/2010/february.csv  \n",
            "  inflating: data/2010/january.csv   \n",
            "  inflating: data/2010/july.csv      \n",
            "  inflating: data/2010/june.csv      \n",
            "  inflating: data/2010/march.csv     \n",
            "  inflating: data/2010/may.csv       \n",
            "  inflating: data/2010/november.csv  \n",
            "  inflating: data/2010/october.csv   \n",
            "  inflating: data/2010/september.csv  \n",
            "  inflating: data/2010/september.xlsx  \n",
            "   creating: data/2011/\n",
            "  inflating: data/2011/april.csv     \n",
            "  inflating: data/2011/august.csv    \n",
            "  inflating: data/2011/december.csv  \n",
            "  inflating: data/2011/february.csv  \n",
            "  inflating: data/2011/january.csv   \n",
            "  inflating: data/2011/july.csv      \n",
            "  inflating: data/2011/june.csv      \n",
            "  inflating: data/2011/march.csv     \n",
            "  inflating: data/2011/may.csv       \n",
            "  inflating: data/2011/november.csv  \n",
            "  inflating: data/2011/october.csv   \n",
            "  inflating: data/2011/september.csv  \n",
            "   creating: data/2012/\n",
            "  inflating: data/2012/april.csv     \n",
            "  inflating: data/2012/august.csv    \n",
            "  inflating: data/2012/december.csv  \n",
            "  inflating: data/2012/february.csv  \n",
            "  inflating: data/2012/january.csv   \n",
            "  inflating: data/2012/july.csv      \n",
            "  inflating: data/2012/june.csv      \n",
            "  inflating: data/2012/march.csv     \n",
            "  inflating: data/2012/may.csv       \n",
            "  inflating: data/2012/november.csv  \n",
            "  inflating: data/2012/october.csv   \n",
            "  inflating: data/2012/september.csv  \n",
            "   creating: data/2013/\n",
            "  inflating: data/2013/april.csv     \n",
            "  inflating: data/2013/august.csv    \n",
            "  inflating: data/2013/december.csv  \n",
            "  inflating: data/2013/february.csv  \n",
            "  inflating: data/2013/january.csv   \n",
            "  inflating: data/2013/july.csv      \n",
            "  inflating: data/2013/june.csv      \n",
            "  inflating: data/2013/march.csv     \n",
            "  inflating: data/2013/may.csv       \n",
            "  inflating: data/2013/november.csv  \n",
            "  inflating: data/2013/october.csv   \n",
            "  inflating: data/2013/september.csv  \n",
            "   creating: data/2014/\n",
            "  inflating: data/2014/april.csv     \n",
            "  inflating: data/2014/august.csv    \n",
            "  inflating: data/2014/december.csv  \n",
            "  inflating: data/2014/february.csv  \n",
            "  inflating: data/2014/january.csv   \n",
            "  inflating: data/2014/july.csv      \n",
            "  inflating: data/2014/june.csv      \n",
            "  inflating: data/2014/march.csv     \n",
            "  inflating: data/2014/may.csv       \n",
            "  inflating: data/2014/november.csv  \n",
            "  inflating: data/2014/october.csv   \n",
            "  inflating: data/2014/september.csv  \n",
            "   creating: data/2015/\n",
            "  inflating: data/2015/april.csv     \n",
            "  inflating: data/2015/august.csv    \n",
            "  inflating: data/2015/december.csv  \n",
            "  inflating: data/2015/february.csv  \n",
            "  inflating: data/2015/january.csv   \n",
            "  inflating: data/2015/july.csv      \n",
            "  inflating: data/2015/june.csv      \n",
            "  inflating: data/2015/march.csv     \n",
            "  inflating: data/2015/may.csv       \n",
            "  inflating: data/2015/november.csv  \n",
            "  inflating: data/2015/october.csv   \n",
            "  inflating: data/2015/september.csv  \n",
            "   creating: data/2016/\n",
            "  inflating: data/2016/april.csv     \n",
            "  inflating: data/2016/august.csv    \n",
            "  inflating: data/2016/december.csv  \n",
            "  inflating: data/2016/february.csv  \n",
            "  inflating: data/2016/january.csv   \n",
            "  inflating: data/2016/july.csv      \n",
            "  inflating: data/2016/june.csv      \n",
            "  inflating: data/2016/march.csv     \n",
            "  inflating: data/2016/may.csv       \n",
            "  inflating: data/2016/november.csv  \n",
            "  inflating: data/2016/october.csv   \n",
            "  inflating: data/2016/september.csv  \n",
            "   creating: data/2017/\n",
            "  inflating: data/2017/april.csv     \n",
            "  inflating: data/2017/august.csv    \n",
            "  inflating: data/2017/december.csv  \n",
            "  inflating: data/2017/february.csv  \n",
            "  inflating: data/2017/january.csv   \n",
            "  inflating: data/2017/july.csv      \n",
            "  inflating: data/2017/june.csv      \n",
            "  inflating: data/2017/march.csv     \n",
            "  inflating: data/2017/may.csv       \n",
            "  inflating: data/2017/november.csv  \n",
            "  inflating: data/2017/october.csv   \n",
            "  inflating: data/2017/september.csv  \n",
            "   creating: data/2018/\n",
            "  inflating: data/2018/april.csv     \n",
            "  inflating: data/2018/august.csv    \n",
            "  inflating: data/2018/december.csv  \n",
            "  inflating: data/2018/february.csv  \n",
            "  inflating: data/2018/january.csv   \n",
            "  inflating: data/2018/july.csv      \n",
            "  inflating: data/2018/june.csv      \n",
            "  inflating: data/2018/march.csv     \n",
            "  inflating: data/2018/may.csv       \n",
            "  inflating: data/2018/november.csv  \n",
            "  inflating: data/2018/october.csv   \n",
            "  inflating: data/2018/september.csv  \n",
            "   creating: data/2019/\n",
            "  inflating: data/2019/april.csv     \n",
            "  inflating: data/2019/august.csv    \n",
            "  inflating: data/2019/december.csv  \n",
            "  inflating: data/2019/february.csv  \n",
            "  inflating: data/2019/january.csv   \n",
            "  inflating: data/2019/july.csv      \n",
            "  inflating: data/2019/june.csv      \n",
            "  inflating: data/2019/march.csv     \n",
            "  inflating: data/2019/may.csv       \n",
            "  inflating: data/2019/november.csv  \n",
            "  inflating: data/2019/october.csv   \n",
            "  inflating: data/2019/september.csv  \n",
            "   creating: data/2020/\n",
            "  inflating: data/2020/april.csv     \n",
            "  inflating: data/2020/august.csv    \n",
            "  inflating: data/2020/december.csv  \n",
            "  inflating: data/2020/february.csv  \n",
            "  inflating: data/2020/january.csv   \n",
            "  inflating: data/2020/july.csv      \n",
            "  inflating: data/2020/june.csv      \n",
            "  inflating: data/2020/march.csv     \n",
            "  inflating: data/2020/may.csv       \n",
            "  inflating: data/2020/november.csv  \n",
            "  inflating: data/2020/october.csv   \n",
            "  inflating: data/2020/september.csv  \n",
            "   creating: data/2021/\n",
            "  inflating: data/2021/april.csv     \n",
            "  inflating: data/2021/august.csv    \n",
            "  inflating: data/2021/december.csv  \n",
            "  inflating: data/2021/february.csv  \n",
            "  inflating: data/2021/january.csv   \n",
            "  inflating: data/2021/july.csv      \n",
            "  inflating: data/2021/june.csv      \n",
            "  inflating: data/2021/march.csv     \n",
            "  inflating: data/2021/may.csv       \n",
            "  inflating: data/2021/november.csv  \n",
            "  inflating: data/2021/october.csv   \n",
            "  inflating: data/2021/september.csv  \n"
          ]
        }
      ],
      "source": [
        "! unzip data.zip"
      ]
    },
    {
      "cell_type": "code",
      "execution_count": null,
      "metadata": {
        "id": "3t6m5pl71q86"
      },
      "outputs": [],
      "source": [
        "import pandas as pd\n",
        "import numpy as np\n",
        "import os\n",
        "import glob\n",
        "import matplotlib.pyplot as plt\n",
        "import tensorflow as tf"
      ]
    },
    {
      "cell_type": "code",
      "execution_count": null,
      "metadata": {
        "id": "3LNK9Cj52fD-"
      },
      "outputs": [],
      "source": [
        "months = ['january','february','march','april','may','june','july','august','september','october','november','december']\n"
      ]
    },
    {
      "cell_type": "code",
      "execution_count": null,
      "metadata": {
        "colab": {
          "base_uri": "https://localhost:8080/"
        },
        "id": "JwqzM_RA2jsK",
        "outputId": "dfb1da19-ad6d-4f75-b9e3-9e38110321f7"
      },
      "outputs": [
        {
          "output_type": "execute_result",
          "data": {
            "text/plain": [
              "['/content/data/2010/july.csv',\n",
              " '/content/data/2010/may.csv',\n",
              " '/content/data/2010/december.csv',\n",
              " '/content/data/2010/june.csv',\n",
              " '/content/data/2010/august.csv',\n",
              " '/content/data/2010/february.csv',\n",
              " '/content/data/2010/october.csv',\n",
              " '/content/data/2010/march.csv',\n",
              " '/content/data/2010/january.csv',\n",
              " '/content/data/2010/september.csv',\n",
              " '/content/data/2010/november.csv',\n",
              " '/content/data/2010/april.csv']"
            ]
          },
          "metadata": {},
          "execution_count": 4
        }
      ],
      "source": [
        "month_paths =  glob.glob(os.path.join(os.getcwd(),'data','2010', \"*.csv\"))\n",
        "month_paths"
      ]
    },
    {
      "cell_type": "code",
      "execution_count": null,
      "metadata": {
        "id": "HnZaBJzB2ku2"
      },
      "outputs": [],
      "source": [
        "def data_loader(year):\n",
        "    \n",
        "    month_paths =  glob.glob(os.path.join(os.getcwd(),'data',year, \"*.csv\"))\n",
        "    val_array = list()\n",
        "    i = 0\n",
        "    for month_path in month_paths:\n",
        "        #df = pd.read_excel(month_path) \n",
        " \n",
        "        \n",
        "        #array = np.asarray(df)\n",
        "        \n",
        "        array = np.loadtxt(month_path, delimiter=',')\n",
        "        \n",
        "        val = array[0][0]\n",
        "        val_list = list([year,months[i],val])\n",
        "        val_array.append(val_list)\n",
        "        i+=1\n",
        "\n",
        "\n",
        "    df = pd.DataFrame(val_array,columns = ['Year','Month','NDVI'])\n",
        "    \n",
        "    return df"
      ]
    },
    {
      "cell_type": "code",
      "execution_count": null,
      "metadata": {
        "id": "mSzCqIjW27I5"
      },
      "outputs": [],
      "source": [
        "years = ['2010','2011','2012','2013','2014','2015','2016','2017','2018','2019','2020','2021']\n",
        "ndvi_data = pd.DataFrame(columns = ['Year','Month','NDVI'])"
      ]
    },
    {
      "cell_type": "code",
      "execution_count": null,
      "metadata": {
        "id": "RoktfdyC3WoP"
      },
      "outputs": [],
      "source": [
        "for i in range(12):\n",
        "  ndvi_data = pd.concat([ndvi_data,data_loader(years[i])])"
      ]
    },
    {
      "cell_type": "code",
      "execution_count": null,
      "metadata": {
        "colab": {
          "base_uri": "https://localhost:8080/",
          "height": 423
        },
        "id": "PpEfs3WPRt-T",
        "outputId": "dd6c4126-3c37-4871-a5a7-79c7045634a8"
      },
      "outputs": [
        {
          "output_type": "execute_result",
          "data": {
            "text/plain": [
              "    Year      Month    NDVI\n",
              "0   2010    january  3602.0\n",
              "1   2010   february  2671.0\n",
              "2   2010      march  5546.0\n",
              "3   2010      april  3365.0\n",
              "4   2010        may  5973.0\n",
              "..   ...        ...     ...\n",
              "7   2021     august  3162.0\n",
              "8   2021  september  5181.0\n",
              "9   2021    october  6499.0\n",
              "10  2021   november  7557.0\n",
              "11  2021   december  2891.0\n",
              "\n",
              "[144 rows x 3 columns]"
            ],
            "text/html": [
              "\n",
              "  <div id=\"df-2e618f0c-d567-4522-b28b-7ce1915388ad\">\n",
              "    <div class=\"colab-df-container\">\n",
              "      <div>\n",
              "<style scoped>\n",
              "    .dataframe tbody tr th:only-of-type {\n",
              "        vertical-align: middle;\n",
              "    }\n",
              "\n",
              "    .dataframe tbody tr th {\n",
              "        vertical-align: top;\n",
              "    }\n",
              "\n",
              "    .dataframe thead th {\n",
              "        text-align: right;\n",
              "    }\n",
              "</style>\n",
              "<table border=\"1\" class=\"dataframe\">\n",
              "  <thead>\n",
              "    <tr style=\"text-align: right;\">\n",
              "      <th></th>\n",
              "      <th>Year</th>\n",
              "      <th>Month</th>\n",
              "      <th>NDVI</th>\n",
              "    </tr>\n",
              "  </thead>\n",
              "  <tbody>\n",
              "    <tr>\n",
              "      <th>0</th>\n",
              "      <td>2010</td>\n",
              "      <td>january</td>\n",
              "      <td>3602.0</td>\n",
              "    </tr>\n",
              "    <tr>\n",
              "      <th>1</th>\n",
              "      <td>2010</td>\n",
              "      <td>february</td>\n",
              "      <td>2671.0</td>\n",
              "    </tr>\n",
              "    <tr>\n",
              "      <th>2</th>\n",
              "      <td>2010</td>\n",
              "      <td>march</td>\n",
              "      <td>5546.0</td>\n",
              "    </tr>\n",
              "    <tr>\n",
              "      <th>3</th>\n",
              "      <td>2010</td>\n",
              "      <td>april</td>\n",
              "      <td>3365.0</td>\n",
              "    </tr>\n",
              "    <tr>\n",
              "      <th>4</th>\n",
              "      <td>2010</td>\n",
              "      <td>may</td>\n",
              "      <td>5973.0</td>\n",
              "    </tr>\n",
              "    <tr>\n",
              "      <th>...</th>\n",
              "      <td>...</td>\n",
              "      <td>...</td>\n",
              "      <td>...</td>\n",
              "    </tr>\n",
              "    <tr>\n",
              "      <th>7</th>\n",
              "      <td>2021</td>\n",
              "      <td>august</td>\n",
              "      <td>3162.0</td>\n",
              "    </tr>\n",
              "    <tr>\n",
              "      <th>8</th>\n",
              "      <td>2021</td>\n",
              "      <td>september</td>\n",
              "      <td>5181.0</td>\n",
              "    </tr>\n",
              "    <tr>\n",
              "      <th>9</th>\n",
              "      <td>2021</td>\n",
              "      <td>october</td>\n",
              "      <td>6499.0</td>\n",
              "    </tr>\n",
              "    <tr>\n",
              "      <th>10</th>\n",
              "      <td>2021</td>\n",
              "      <td>november</td>\n",
              "      <td>7557.0</td>\n",
              "    </tr>\n",
              "    <tr>\n",
              "      <th>11</th>\n",
              "      <td>2021</td>\n",
              "      <td>december</td>\n",
              "      <td>2891.0</td>\n",
              "    </tr>\n",
              "  </tbody>\n",
              "</table>\n",
              "<p>144 rows × 3 columns</p>\n",
              "</div>\n",
              "      <button class=\"colab-df-convert\" onclick=\"convertToInteractive('df-2e618f0c-d567-4522-b28b-7ce1915388ad')\"\n",
              "              title=\"Convert this dataframe to an interactive table.\"\n",
              "              style=\"display:none;\">\n",
              "        \n",
              "  <svg xmlns=\"http://www.w3.org/2000/svg\" height=\"24px\"viewBox=\"0 0 24 24\"\n",
              "       width=\"24px\">\n",
              "    <path d=\"M0 0h24v24H0V0z\" fill=\"none\"/>\n",
              "    <path d=\"M18.56 5.44l.94 2.06.94-2.06 2.06-.94-2.06-.94-.94-2.06-.94 2.06-2.06.94zm-11 1L8.5 8.5l.94-2.06 2.06-.94-2.06-.94L8.5 2.5l-.94 2.06-2.06.94zm10 10l.94 2.06.94-2.06 2.06-.94-2.06-.94-.94-2.06-.94 2.06-2.06.94z\"/><path d=\"M17.41 7.96l-1.37-1.37c-.4-.4-.92-.59-1.43-.59-.52 0-1.04.2-1.43.59L10.3 9.45l-7.72 7.72c-.78.78-.78 2.05 0 2.83L4 21.41c.39.39.9.59 1.41.59.51 0 1.02-.2 1.41-.59l7.78-7.78 2.81-2.81c.8-.78.8-2.07 0-2.86zM5.41 20L4 18.59l7.72-7.72 1.47 1.35L5.41 20z\"/>\n",
              "  </svg>\n",
              "      </button>\n",
              "      \n",
              "  <style>\n",
              "    .colab-df-container {\n",
              "      display:flex;\n",
              "      flex-wrap:wrap;\n",
              "      gap: 12px;\n",
              "    }\n",
              "\n",
              "    .colab-df-convert {\n",
              "      background-color: #E8F0FE;\n",
              "      border: none;\n",
              "      border-radius: 50%;\n",
              "      cursor: pointer;\n",
              "      display: none;\n",
              "      fill: #1967D2;\n",
              "      height: 32px;\n",
              "      padding: 0 0 0 0;\n",
              "      width: 32px;\n",
              "    }\n",
              "\n",
              "    .colab-df-convert:hover {\n",
              "      background-color: #E2EBFA;\n",
              "      box-shadow: 0px 1px 2px rgba(60, 64, 67, 0.3), 0px 1px 3px 1px rgba(60, 64, 67, 0.15);\n",
              "      fill: #174EA6;\n",
              "    }\n",
              "\n",
              "    [theme=dark] .colab-df-convert {\n",
              "      background-color: #3B4455;\n",
              "      fill: #D2E3FC;\n",
              "    }\n",
              "\n",
              "    [theme=dark] .colab-df-convert:hover {\n",
              "      background-color: #434B5C;\n",
              "      box-shadow: 0px 1px 3px 1px rgba(0, 0, 0, 0.15);\n",
              "      filter: drop-shadow(0px 1px 2px rgba(0, 0, 0, 0.3));\n",
              "      fill: #FFFFFF;\n",
              "    }\n",
              "  </style>\n",
              "\n",
              "      <script>\n",
              "        const buttonEl =\n",
              "          document.querySelector('#df-2e618f0c-d567-4522-b28b-7ce1915388ad button.colab-df-convert');\n",
              "        buttonEl.style.display =\n",
              "          google.colab.kernel.accessAllowed ? 'block' : 'none';\n",
              "\n",
              "        async function convertToInteractive(key) {\n",
              "          const element = document.querySelector('#df-2e618f0c-d567-4522-b28b-7ce1915388ad');\n",
              "          const dataTable =\n",
              "            await google.colab.kernel.invokeFunction('convertToInteractive',\n",
              "                                                     [key], {});\n",
              "          if (!dataTable) return;\n",
              "\n",
              "          const docLinkHtml = 'Like what you see? Visit the ' +\n",
              "            '<a target=\"_blank\" href=https://colab.research.google.com/notebooks/data_table.ipynb>data table notebook</a>'\n",
              "            + ' to learn more about interactive tables.';\n",
              "          element.innerHTML = '';\n",
              "          dataTable['output_type'] = 'display_data';\n",
              "          await google.colab.output.renderOutput(dataTable, element);\n",
              "          const docLink = document.createElement('div');\n",
              "          docLink.innerHTML = docLinkHtml;\n",
              "          element.appendChild(docLink);\n",
              "        }\n",
              "      </script>\n",
              "    </div>\n",
              "  </div>\n",
              "  "
            ]
          },
          "metadata": {},
          "execution_count": 8
        }
      ],
      "source": [
        "ndvi_data"
      ]
    },
    {
      "cell_type": "code",
      "execution_count": null,
      "metadata": {
        "id": "8z_MyY0W3bMc"
      },
      "outputs": [],
      "source": [
        "ndvi_data['NDVI'] = ndvi_data['NDVI'] / 10000\n",
        "ndvi_data = ndvi_data.reset_index()"
      ]
    },
    {
      "cell_type": "code",
      "execution_count": null,
      "metadata": {
        "colab": {
          "base_uri": "https://localhost:8080/",
          "height": 423
        },
        "id": "MWG4K_87TZPB",
        "outputId": "949523a3-18ef-4ee7-9dff-ee6c90ffbc55"
      },
      "outputs": [
        {
          "output_type": "execute_result",
          "data": {
            "text/plain": [
              "     index  Year      Month    NDVI\n",
              "0        0  2010    january  0.3602\n",
              "1        1  2010   february  0.2671\n",
              "2        2  2010      march  0.5546\n",
              "3        3  2010      april  0.3365\n",
              "4        4  2010        may  0.5973\n",
              "..     ...   ...        ...     ...\n",
              "139      7  2021     august  0.3162\n",
              "140      8  2021  september  0.5181\n",
              "141      9  2021    october  0.6499\n",
              "142     10  2021   november  0.7557\n",
              "143     11  2021   december  0.2891\n",
              "\n",
              "[144 rows x 4 columns]"
            ],
            "text/html": [
              "\n",
              "  <div id=\"df-4fedc305-e7f4-4ba1-aee1-366e199c9f3a\">\n",
              "    <div class=\"colab-df-container\">\n",
              "      <div>\n",
              "<style scoped>\n",
              "    .dataframe tbody tr th:only-of-type {\n",
              "        vertical-align: middle;\n",
              "    }\n",
              "\n",
              "    .dataframe tbody tr th {\n",
              "        vertical-align: top;\n",
              "    }\n",
              "\n",
              "    .dataframe thead th {\n",
              "        text-align: right;\n",
              "    }\n",
              "</style>\n",
              "<table border=\"1\" class=\"dataframe\">\n",
              "  <thead>\n",
              "    <tr style=\"text-align: right;\">\n",
              "      <th></th>\n",
              "      <th>index</th>\n",
              "      <th>Year</th>\n",
              "      <th>Month</th>\n",
              "      <th>NDVI</th>\n",
              "    </tr>\n",
              "  </thead>\n",
              "  <tbody>\n",
              "    <tr>\n",
              "      <th>0</th>\n",
              "      <td>0</td>\n",
              "      <td>2010</td>\n",
              "      <td>january</td>\n",
              "      <td>0.3602</td>\n",
              "    </tr>\n",
              "    <tr>\n",
              "      <th>1</th>\n",
              "      <td>1</td>\n",
              "      <td>2010</td>\n",
              "      <td>february</td>\n",
              "      <td>0.2671</td>\n",
              "    </tr>\n",
              "    <tr>\n",
              "      <th>2</th>\n",
              "      <td>2</td>\n",
              "      <td>2010</td>\n",
              "      <td>march</td>\n",
              "      <td>0.5546</td>\n",
              "    </tr>\n",
              "    <tr>\n",
              "      <th>3</th>\n",
              "      <td>3</td>\n",
              "      <td>2010</td>\n",
              "      <td>april</td>\n",
              "      <td>0.3365</td>\n",
              "    </tr>\n",
              "    <tr>\n",
              "      <th>4</th>\n",
              "      <td>4</td>\n",
              "      <td>2010</td>\n",
              "      <td>may</td>\n",
              "      <td>0.5973</td>\n",
              "    </tr>\n",
              "    <tr>\n",
              "      <th>...</th>\n",
              "      <td>...</td>\n",
              "      <td>...</td>\n",
              "      <td>...</td>\n",
              "      <td>...</td>\n",
              "    </tr>\n",
              "    <tr>\n",
              "      <th>139</th>\n",
              "      <td>7</td>\n",
              "      <td>2021</td>\n",
              "      <td>august</td>\n",
              "      <td>0.3162</td>\n",
              "    </tr>\n",
              "    <tr>\n",
              "      <th>140</th>\n",
              "      <td>8</td>\n",
              "      <td>2021</td>\n",
              "      <td>september</td>\n",
              "      <td>0.5181</td>\n",
              "    </tr>\n",
              "    <tr>\n",
              "      <th>141</th>\n",
              "      <td>9</td>\n",
              "      <td>2021</td>\n",
              "      <td>october</td>\n",
              "      <td>0.6499</td>\n",
              "    </tr>\n",
              "    <tr>\n",
              "      <th>142</th>\n",
              "      <td>10</td>\n",
              "      <td>2021</td>\n",
              "      <td>november</td>\n",
              "      <td>0.7557</td>\n",
              "    </tr>\n",
              "    <tr>\n",
              "      <th>143</th>\n",
              "      <td>11</td>\n",
              "      <td>2021</td>\n",
              "      <td>december</td>\n",
              "      <td>0.2891</td>\n",
              "    </tr>\n",
              "  </tbody>\n",
              "</table>\n",
              "<p>144 rows × 4 columns</p>\n",
              "</div>\n",
              "      <button class=\"colab-df-convert\" onclick=\"convertToInteractive('df-4fedc305-e7f4-4ba1-aee1-366e199c9f3a')\"\n",
              "              title=\"Convert this dataframe to an interactive table.\"\n",
              "              style=\"display:none;\">\n",
              "        \n",
              "  <svg xmlns=\"http://www.w3.org/2000/svg\" height=\"24px\"viewBox=\"0 0 24 24\"\n",
              "       width=\"24px\">\n",
              "    <path d=\"M0 0h24v24H0V0z\" fill=\"none\"/>\n",
              "    <path d=\"M18.56 5.44l.94 2.06.94-2.06 2.06-.94-2.06-.94-.94-2.06-.94 2.06-2.06.94zm-11 1L8.5 8.5l.94-2.06 2.06-.94-2.06-.94L8.5 2.5l-.94 2.06-2.06.94zm10 10l.94 2.06.94-2.06 2.06-.94-2.06-.94-.94-2.06-.94 2.06-2.06.94z\"/><path d=\"M17.41 7.96l-1.37-1.37c-.4-.4-.92-.59-1.43-.59-.52 0-1.04.2-1.43.59L10.3 9.45l-7.72 7.72c-.78.78-.78 2.05 0 2.83L4 21.41c.39.39.9.59 1.41.59.51 0 1.02-.2 1.41-.59l7.78-7.78 2.81-2.81c.8-.78.8-2.07 0-2.86zM5.41 20L4 18.59l7.72-7.72 1.47 1.35L5.41 20z\"/>\n",
              "  </svg>\n",
              "      </button>\n",
              "      \n",
              "  <style>\n",
              "    .colab-df-container {\n",
              "      display:flex;\n",
              "      flex-wrap:wrap;\n",
              "      gap: 12px;\n",
              "    }\n",
              "\n",
              "    .colab-df-convert {\n",
              "      background-color: #E8F0FE;\n",
              "      border: none;\n",
              "      border-radius: 50%;\n",
              "      cursor: pointer;\n",
              "      display: none;\n",
              "      fill: #1967D2;\n",
              "      height: 32px;\n",
              "      padding: 0 0 0 0;\n",
              "      width: 32px;\n",
              "    }\n",
              "\n",
              "    .colab-df-convert:hover {\n",
              "      background-color: #E2EBFA;\n",
              "      box-shadow: 0px 1px 2px rgba(60, 64, 67, 0.3), 0px 1px 3px 1px rgba(60, 64, 67, 0.15);\n",
              "      fill: #174EA6;\n",
              "    }\n",
              "\n",
              "    [theme=dark] .colab-df-convert {\n",
              "      background-color: #3B4455;\n",
              "      fill: #D2E3FC;\n",
              "    }\n",
              "\n",
              "    [theme=dark] .colab-df-convert:hover {\n",
              "      background-color: #434B5C;\n",
              "      box-shadow: 0px 1px 3px 1px rgba(0, 0, 0, 0.15);\n",
              "      filter: drop-shadow(0px 1px 2px rgba(0, 0, 0, 0.3));\n",
              "      fill: #FFFFFF;\n",
              "    }\n",
              "  </style>\n",
              "\n",
              "      <script>\n",
              "        const buttonEl =\n",
              "          document.querySelector('#df-4fedc305-e7f4-4ba1-aee1-366e199c9f3a button.colab-df-convert');\n",
              "        buttonEl.style.display =\n",
              "          google.colab.kernel.accessAllowed ? 'block' : 'none';\n",
              "\n",
              "        async function convertToInteractive(key) {\n",
              "          const element = document.querySelector('#df-4fedc305-e7f4-4ba1-aee1-366e199c9f3a');\n",
              "          const dataTable =\n",
              "            await google.colab.kernel.invokeFunction('convertToInteractive',\n",
              "                                                     [key], {});\n",
              "          if (!dataTable) return;\n",
              "\n",
              "          const docLinkHtml = 'Like what you see? Visit the ' +\n",
              "            '<a target=\"_blank\" href=https://colab.research.google.com/notebooks/data_table.ipynb>data table notebook</a>'\n",
              "            + ' to learn more about interactive tables.';\n",
              "          element.innerHTML = '';\n",
              "          dataTable['output_type'] = 'display_data';\n",
              "          await google.colab.output.renderOutput(dataTable, element);\n",
              "          const docLink = document.createElement('div');\n",
              "          docLink.innerHTML = docLinkHtml;\n",
              "          element.appendChild(docLink);\n",
              "        }\n",
              "      </script>\n",
              "    </div>\n",
              "  </div>\n",
              "  "
            ]
          },
          "metadata": {},
          "execution_count": 10
        }
      ],
      "source": [
        "ndvi_data"
      ]
    },
    {
      "cell_type": "code",
      "execution_count": null,
      "metadata": {
        "colab": {
          "base_uri": "https://localhost:8080/",
          "height": 1000
        },
        "id": "gOarWKhp-ip0",
        "outputId": "c6286325-0dad-4795-b8ed-8823677d0031"
      },
      "outputs": [
        {
          "output_type": "display_data",
          "data": {
            "text/plain": [
              "<Figure size 720x360 with 1 Axes>"
            ],
            "image/png": "[encoded data removed]"
          },
          "metadata": {
            "needs_background": "light"
          }
        },
        {
          "output_type": "display_data",
          "data": {
            "text/plain": [
              "<Figure size 720x360 with 1 Axes>"
            ],
            "image/png": "[encoded data removed]"
          },
          "metadata": {
            "needs_background": "light"
          }
        },
        {
          "output_type": "display_data",
          "data": {
            "text/plain": [
              "<Figure size 720x360 with 1 Axes>"
            ],
            "image/png": "[encoded data removed]"
          },
          "metadata": {
            "needs_background": "light"
          }
        },
        {
          "output_type": "display_data",
          "data": {
            "text/plain": [
              "<Figure size 720x360 with 1 Axes>"
            ],
            "image/png": "[encoded data removed]"
          },
          "metadata": {
            "needs_background": "light"
          }
        },
        {
          "output_type": "display_data",
          "data": {
            "text/plain": [
              "<Figure size 720x360 with 1 Axes>"
            ],
            "image/png": "[encoded data removed]"
          },
          "metadata": {
            "needs_background": "light"
          }
        },
        {
          "output_type": "display_data",
          "data": {
            "text/plain": [
              "<Figure size 720x360 with 1 Axes>"
            ],
            "image/png": "[encoded data removed]"
          },
          "metadata": {
            "needs_background": "light"
          }
        },
        {
          "output_type": "display_data",
          "data": {
            "text/plain": [
              "<Figure size 720x360 with 1 Axes>"
            ],
            "image/png": "[encoded data removed]"
          },
          "metadata": {
            "needs_background": "light"
          }
        },
        {
          "output_type": "display_data",
          "data": {
            "text/plain": [
              "<Figure size 720x360 with 1 Axes>"
            ],
            "image/png": "[encoded data removed]"
          },
          "metadata": {
            "needs_background": "light"
          }
        },
        {
          "output_type": "display_data",
          "data": {
            "text/plain": [
              "<Figure size 720x360 with 1 Axes>"
            ],
            "image/png": "[encoded data removed]"
          },
          "metadata": {
            "needs_background": "light"
          }
        },
        {
          "output_type": "display_data",
          "data": {
            "text/plain": [
              "<Figure size 720x360 with 1 Axes>"
            ],
            "image/png": "[encoded data removed]"
          },
          "metadata": {
            "needs_background": "light"
          }
        },
        {
          "output_type": "display_data",
          "data": {
            "text/plain": [
              "<Figure size 720x360 with 1 Axes>"
            ],
            "image/png": "[encoded data removed]"
          },
          "metadata": {
            "needs_background": "light"
          }
        },
        {
          "output_type": "display_data",
          "data": {
            "text/plain": [
              "<Figure size 720x360 with 1 Axes>"
            ],
            "image/png": "[encoded data removed]"
          },
          "metadata": {
            "needs_background": "light"
          }
        }
      ],
      "source": [
        "\n",
        "for i in range(12):  \n",
        "  df_bar = ndvi_data[ndvi_data['Year'] == years[i]]\n",
        "  fig = plt.figure(figsize = (10, 5))\n",
        "  plt.bar(df_bar['Month'], df_bar['NDVI'], color ='orange',\n",
        "          width = 0.4)\n",
        "  \n",
        "  plt.xlabel(\"YEAR\")\n",
        "  plt.ylabel(\"NDVI INDEX\")\n",
        "  plt.title(\"NDVI INDEX FOR \" + years[i])\n",
        "  plt.plot()\n",
        "  plt.show()\n",
        "  \n",
        "  "
      ]
    },
    {
      "cell_type": "code",
      "execution_count": null,
      "metadata": {
        "colab": {
          "base_uri": "https://localhost:8080/",
          "height": 1000
        },
        "id": "llftf3BXEVmR",
        "outputId": "bbd27e1c-8d61-4174-cb9e-080e6b7f18ff"
      },
      "outputs": [
        {
          "output_type": "display_data",
          "data": {
            "text/plain": [
              "<Figure size 720x360 with 1 Axes>"
            ],
            "image/png": "[encoded data removed]"
          },
          "metadata": {
            "needs_background": "light"
          }
        },
        {
          "output_type": "display_data",
          "data": {
            "text/plain": [
              "<Figure size 720x360 with 1 Axes>"
            ],
            "image/png": "[encoded data removed]"
          },
          "metadata": {
            "needs_background": "light"
          }
        },
        {
          "output_type": "display_data",
          "data": {
            "text/plain": [
              "<Figure size 720x360 with 1 Axes>"
            ],
            "image/png": "[encoded data removed]"
          },
          "metadata": {
            "needs_background": "light"
          }
        },
        {
          "output_type": "display_data",
          "data": {
            "text/plain": [
              "<Figure size 720x360 with 1 Axes>"
            ],
            "image/png": "[encoded data removed]"
          },
          "metadata": {
            "needs_background": "light"
          }
        },
        {
          "output_type": "display_data",
          "data": {
            "text/plain": [
              "<Figure size 720x360 with 1 Axes>"
            ],
            "image/png": "[encoded data removed]"
          },
          "metadata": {
            "needs_background": "light"
          }
        },
        {
          "output_type": "display_data",
          "data": {
            "text/plain": [
              "<Figure size 720x360 with 1 Axes>"
            ],
            "image/png": "[encoded data removed]"
          },
          "metadata": {
            "needs_background": "light"
          }
        },
        {
          "output_type": "display_data",
          "data": {
            "text/plain": [
              "<Figure size 720x360 with 1 Axes>"
            ],
            "image/png": "[encoded data removed]"
          },
          "metadata": {
            "needs_background": "light"
          }
        },
        {
          "output_type": "display_data",
          "data": {
            "text/plain": [
              "<Figure size 720x360 with 1 Axes>"
            ],
            "image/png": "[encoded data removed]"
          },
          "metadata": {
            "needs_background": "light"
          }
        },
        {
          "output_type": "display_data",
          "data": {
            "text/plain": [
              "<Figure size 720x360 with 1 Axes>"
            ],
            "image/png": "[encoded data removed]"
          },
          "metadata": {
            "needs_background": "light"
          }
        },
        {
          "output_type": "display_data",
          "data": {
            "text/plain": [
              "<Figure size 720x360 with 1 Axes>"
            ],
            "image/png": "[encoded data removed]"
          },
          "metadata": {
            "needs_background": "light"
          }
        },
        {
          "output_type": "display_data",
          "data": {
            "text/plain": [
              "<Figure size 720x360 with 1 Axes>"
            ],
            "image/png": "[encoded data removed]"
          },
          "metadata": {
            "needs_background": "light"
          }
        },
        {
          "output_type": "display_data",
          "data": {
            "text/plain": [
              "<Figure size 720x360 with 1 Axes>"
            ],
            "image/png": "[encoded data removed]"
          },
          "metadata": {
            "needs_background": "light"
          }
        }
      ],
      "source": [
        "\n",
        "for i in range(12):\n",
        "  df_bar = ndvi_data[ndvi_data['Month'] == months[i]]\n",
        "  fig = plt.figure(figsize = (10, 5))\n",
        "  plt.bar(df_bar['Year'], df_bar['NDVI'], color ='blue',\n",
        "          width = 0.4)\n",
        "  \n",
        "  plt.xlabel(\"YEAR\")\n",
        "  plt.ylabel(\"NDVI INDEX\")\n",
        "  plt.title(\"NDVI INDEX FOR \" + months[i])\n",
        "  #fig = plt.subplot(1,i+1,1)\n",
        "  plt.plot()\n",
        "  plt.show()\n",
        "  #return fig"
      ]
    },
    {
      "cell_type": "code",
      "execution_count": null,
      "metadata": {
        "colab": {
          "base_uri": "https://localhost:8080/",
          "height": 295
        },
        "id": "Jl3aLb66_hOS",
        "outputId": "1b938c4e-52bf-4a60-98f7-8698a18a356e"
      },
      "outputs": [
        {
          "output_type": "display_data",
          "data": {
            "text/plain": [
              "<Figure size 432x288 with 1 Axes>"
            ],
            "image/png": "[encoded data removed]"
          },
          "metadata": {
            "needs_background": "light"
          }
        }
      ],
      "source": [
        "plt.plot(ndvi_data['NDVI'])\n",
        "plt.xlabel('Monthly NDVI INDEX')\n",
        "plt.ylabel('NDVI INDEX')\n",
        "plt.title('ALL TIME NDVI')\n",
        "plt.show()"
      ]
    },
    {
      "cell_type": "code",
      "execution_count": null,
      "metadata": {
        "id": "Bu0zYyBI3e4f"
      },
      "outputs": [],
      "source": [
        "df_req = ndvi_data['NDVI']\n",
        "from sklearn.preprocessing import MinMaxScaler\n",
        "scaler=MinMaxScaler(feature_range=(0,1))\n",
        "df_req=scaler.fit_transform(np.array(df_req).reshape(-1,1))"
      ]
    },
    {
      "cell_type": "code",
      "execution_count": null,
      "metadata": {
        "colab": {
          "base_uri": "https://localhost:8080/"
        },
        "id": "hTj1vGul31tr",
        "outputId": "af285c93-1fc5-411c-8e11-219e1caf6bec"
      },
      "outputs": [
        {
          "output_type": "execute_result",
          "data": {
            "text/plain": [
              "array([[0.29660896],\n",
              "       [0.16339963],\n",
              "       [0.57476034],\n",
              "       [0.26269853],\n",
              "       [0.63585635],\n",
              "       [0.38031192],\n",
              "       [0.74545715],\n",
              "       [0.24824725],\n",
              "       [0.46573186],\n",
              "       [0.76076692],\n",
              "       [0.75990843],\n",
              "       [0.1818572 ],\n",
              "       [0.14436972],\n",
              "       [0.14522822],\n",
              "       [0.45170983],\n",
              "       [0.14608671],\n",
              "       [0.28759479],\n",
              "       [0.31520962],\n",
              "       [0.65173845],\n",
              "       [0.23694377],\n",
              "       [0.41679783],\n",
              "       [0.6139648 ],\n",
              "       [0.64329661],\n",
              "       [0.18772357],\n",
              "       [0.18099871],\n",
              "       [0.15839176],\n",
              "       [0.63099156],\n",
              "       [0.1453713 ],\n",
              "       [0.2366576 ],\n",
              "       [0.30791243],\n",
              "       [0.91715553],\n",
              "       [0.19401917],\n",
              "       [0.66232651],\n",
              "       [0.92087566],\n",
              "       [0.82744312],\n",
              "       [0.17498927],\n",
              "       [0.23494062],\n",
              "       [0.16626127],\n",
              "       [0.66232651],\n",
              "       [0.13678638],\n",
              "       [0.87036772],\n",
              "       [0.3359565 ],\n",
              "       [0.92502504],\n",
              "       [0.26570325],\n",
              "       [0.40964373],\n",
              "       [0.87423093],\n",
              "       [0.71913006],\n",
              "       [0.2057519 ],\n",
              "       [0.        ],\n",
              "       [0.17513235],\n",
              "       [0.46401488],\n",
              "       [0.2232079 ],\n",
              "       [0.66361425],\n",
              "       [0.35598798],\n",
              "       [0.82916011],\n",
              "       [0.28859637],\n",
              "       [0.48819574],\n",
              "       [0.77049649],\n",
              "       [0.74416941],\n",
              "       [0.20432108],\n",
              "       [0.16797825],\n",
              "       [0.20231793],\n",
              "       [0.58792388],\n",
              "       [0.17985406],\n",
              "       [0.27829446],\n",
              "       [0.28630705],\n",
              "       [0.80168837],\n",
              "       [0.23150665],\n",
              "       [0.37516097],\n",
              "       [0.69766776],\n",
              "       [0.86478752],\n",
              "       [0.19959937],\n",
              "       [0.30175991],\n",
              "       [0.1818572 ],\n",
              "       [0.40005723],\n",
              "       [0.20389183],\n",
              "       [0.7418801 ],\n",
              "       [0.27071112],\n",
              "       [0.76677636],\n",
              "       [0.21591072],\n",
              "       [0.40992989],\n",
              "       [0.82014594],\n",
              "       [0.55587352],\n",
              "       [0.17684933],\n",
              "       [0.31964516],\n",
              "       [0.17599084],\n",
              "       [0.6759193 ],\n",
              "       [0.2073258 ],\n",
              "       [0.4813278 ],\n",
              "       [0.24095006],\n",
              "       [0.7061096 ],\n",
              "       [0.19258835],\n",
              "       [0.31892975],\n",
              "       [0.7013879 ],\n",
              "       [0.73129203],\n",
              "       [0.17484619],\n",
              "       [0.3200744 ],\n",
              "       [0.17813707],\n",
              "       [0.42180569],\n",
              "       [0.20503649],\n",
              "       [0.33524109],\n",
              "       [0.33896122],\n",
              "       [0.44784662],\n",
              "       [0.25110889],\n",
              "       [0.45428531],\n",
              "       [0.31549578],\n",
              "       [0.46015167],\n",
              "       [0.20689655],\n",
              "       [0.23522678],\n",
              "       [0.16196881],\n",
              "       [0.68579196],\n",
              "       [0.19401917],\n",
              "       [0.27013879],\n",
              "       [0.19659465],\n",
              "       [0.89569323],\n",
              "       [0.17971097],\n",
              "       [0.21934468],\n",
              "       [0.57576191],\n",
              "       [1.        ],\n",
              "       [0.1699814 ],\n",
              "       [0.28187151],\n",
              "       [0.19230219],\n",
              "       [0.63671484],\n",
              "       [0.22964659],\n",
              "       [0.89469166],\n",
              "       [0.37759336],\n",
              "       [0.96337101],\n",
              "       [0.26784948],\n",
              "       [0.47589069],\n",
              "       [0.97982544],\n",
              "       [0.78351696],\n",
              "       [0.20632422],\n",
              "       [0.33409644],\n",
              "       [0.21233367],\n",
              "       [0.65817714],\n",
              "       [0.1874374 ],\n",
              "       [0.50736872],\n",
              "       [0.31334955],\n",
              "       [0.94648734],\n",
              "       [0.23365288],\n",
              "       [0.52253541],\n",
              "       [0.71111747],\n",
              "       [0.86249821],\n",
              "       [0.19487766]])"
            ]
          },
          "metadata": {},
          "execution_count": 15
        }
      ],
      "source": [
        "df_req"
      ]
    },
    {
      "cell_type": "code",
      "execution_count": null,
      "metadata": {
        "id": "r9H57GsM32Wj"
      },
      "outputs": [],
      "source": [
        "training_size=int(len(df_req)*0.80)\n",
        "test_size=len(df_req)-training_size\n",
        "train_data,test_data=df_req[0:training_size,:],df_req[training_size:len(df_req),:1]"
      ]
    },
    {
      "cell_type": "code",
      "execution_count": null,
      "metadata": {
        "id": "bPCHQyDB39QD"
      },
      "outputs": [],
      "source": [
        "import numpy\n",
        "# convert an array of values into a dataset matrix\n",
        "def create_dataset(dataset, time_step=1):\n",
        "\tdataX, dataY = [], []\n",
        "\tfor i in range(len(dataset)-time_step-1):\n",
        "\t\ta = dataset[i:(i+time_step), 0]   ###i=0, 0,1,2,3-----99   100 \n",
        "\t\tdataX.append(a)\n",
        "\t\tdataY.append(dataset[i + time_step, 0])\n",
        "\treturn numpy.array(dataX), numpy.array(dataY)"
      ]
    },
    {
      "cell_type": "code",
      "execution_count": null,
      "metadata": {
        "id": "vHgReDXV3_3d"
      },
      "outputs": [],
      "source": [
        "time_step = 12\n",
        "X_train, y_train = create_dataset(train_data, time_step)\n",
        "X_test, ytest = create_dataset(test_data, time_step)"
      ]
    },
    {
      "cell_type": "code",
      "execution_count": null,
      "metadata": {
        "colab": {
          "base_uri": "https://localhost:8080/"
        },
        "id": "4bj6Z-Pb4B2h",
        "outputId": "f3570c58-2ced-40aa-cde4-f606bccd5ed8"
      },
      "outputs": [
        {
          "output_type": "stream",
          "name": "stdout",
          "text": [
            "(102, 12)\n",
            "(102,)\n",
            "(16, 12)\n",
            "(16,)\n"
          ]
        },
        {
          "output_type": "execute_result",
          "data": {
            "text/plain": [
              "(None, None)"
            ]
          },
          "metadata": {},
          "execution_count": 19
        }
      ],
      "source": [
        "print(X_train.shape), print(y_train.shape)\n",
        "print(X_test.shape), print(ytest.shape)\n"
      ]
    },
    {
      "cell_type": "code",
      "execution_count": null,
      "metadata": {
        "id": "F5yOAjUO4HnZ"
      },
      "outputs": [],
      "source": [
        "# reshape input to be [samples, time steps, features] which is required for LSTM\n",
        "X_train =X_train.reshape(X_train.shape[0],X_train.shape[1] , 1)\n",
        "X_test = X_test.reshape(X_test.shape[0],X_test.shape[1] , 1)"
      ]
    },
    {
      "cell_type": "code",
      "execution_count": null,
      "metadata": {
        "id": "Lz6aj1xw4K9l"
      },
      "outputs": [],
      "source": [
        "from tensorflow.keras.models import Sequential\n",
        "from tensorflow.keras.layers import Dense\n",
        "from tensorflow.keras.layers import LSTM"
      ]
    },
    {
      "cell_type": "code",
      "execution_count": null,
      "metadata": {
        "id": "0ZCONbez4NH-"
      },
      "outputs": [],
      "source": [
        "model=Sequential()\n",
        "model.add(LSTM(200,return_sequences=True,input_shape=(12,1)))\n",
        "model.add(LSTM(200,return_sequences=True))\n",
        "model.add(LSTM(200))\n",
        "model.add(Dense(1))\n",
        "model.compile(loss='mean_squared_error',optimizer='adam')"
      ]
    },
    {
      "cell_type": "code",
      "execution_count": null,
      "metadata": {
        "colab": {
          "base_uri": "https://localhost:8080/"
        },
        "id": "6Neprk-t4QQ7",
        "outputId": "371da4f0-c407-42b9-f0a5-e18480ca4ec2"
      },
      "outputs": [
        {
          "output_type": "stream",
          "name": "stdout",
          "text": [
            "Model: \"sequential\"\n",
            "_________________________________________________________________\n",
            " Layer (type)                Output Shape              Param #   \n",
            "=================================================================\n",
            " lstm (LSTM)                 (None, 12, 200)           161600    \n",
            "                                                                 \n",
            " lstm_1 (LSTM)               (None, 12, 200)           320800    \n",
            "                                                                 \n",
            " lstm_2 (LSTM)               (None, 200)               320800    \n",
            "                                                                 \n",
            " dense (Dense)               (None, 1)                 201       \n",
            "                                                                 \n",
            "=================================================================\n",
            "Total params: 803,401\n",
            "Trainable params: 803,401\n",
            "Non-trainable params: 0\n",
            "_________________________________________________________________\n"
          ]
        }
      ],
      "source": [
        "model.summary()"
      ]
    },
    {
      "cell_type": "code",
      "execution_count": null,
      "metadata": {
        "colab": {
          "base_uri": "https://localhost:8080/"
        },
        "id": "EZKH524W4SDX",
        "outputId": "5fa373fa-8523-47cb-c912-d77ca65b9a9d"
      },
      "outputs": [
        {
          "output_type": "stream",
          "name": "stdout",
          "text": [
            "Epoch 1/200\n",
            "17/17 [==============================] - 0s 11ms/step - loss: 0.0014 - val_loss: 0.0271\n",
            "Epoch 2/200\n",
            "17/17 [==============================] - 0s 10ms/step - loss: 0.0015 - val_loss: 0.0293\n",
            "Epoch 3/200\n",
            "17/17 [==============================] - 0s 9ms/step - loss: 0.0015 - val_loss: 0.0299\n",
            "Epoch 4/200\n",
            "17/17 [==============================] - 0s 10ms/step - loss: 0.0013 - val_loss: 0.0275\n",
            "Epoch 5/200\n",
            "17/17 [==============================] - 0s 11ms/step - loss: 0.0011 - val_loss: 0.0320\n",
            "Epoch 6/200\n",
            "17/17 [==============================] - 0s 13ms/step - loss: 0.0010 - val_loss: 0.0266\n",
            "Epoch 7/200\n",
            "17/17 [==============================] - 0s 14ms/step - loss: 0.0028 - val_loss: 0.0324\n",
            "Epoch 8/200\n",
            "17/17 [==============================] - 0s 12ms/step - loss: 0.0025 - val_loss: 0.0198\n",
            "Epoch 9/200\n",
            "17/17 [==============================] - 0s 12ms/step - loss: 0.0022 - val_loss: 0.0422\n",
            "Epoch 10/200\n",
            "17/17 [==============================] - 0s 13ms/step - loss: 0.0055 - val_loss: 0.0167\n",
            "Epoch 11/200\n",
            "17/17 [==============================] - 0s 13ms/step - loss: 0.0046 - val_loss: 0.0259\n",
            "Epoch 12/200\n",
            "17/17 [==============================] - 0s 13ms/step - loss: 0.0049 - val_loss: 0.0281\n",
            "Epoch 13/200\n",
            "17/17 [==============================] - 0s 15ms/step - loss: 0.0039 - val_loss: 0.0331\n",
            "Epoch 14/200\n",
            "17/17 [==============================] - 0s 12ms/step - loss: 0.0041 - val_loss: 0.0322\n",
            "Epoch 15/200\n",
            "17/17 [==============================] - 0s 12ms/step - loss: 0.0032 - val_loss: 0.0279\n",
            "Epoch 16/200\n",
            "17/17 [==============================] - 0s 12ms/step - loss: 0.0017 - val_loss: 0.0357\n",
            "Epoch 17/200\n",
            "17/17 [==============================] - 0s 13ms/step - loss: 0.0017 - val_loss: 0.0227\n",
            "Epoch 18/200\n",
            "17/17 [==============================] - 0s 13ms/step - loss: 0.0028 - val_loss: 0.0285\n",
            "Epoch 19/200\n",
            "17/17 [==============================] - 0s 13ms/step - loss: 0.0035 - val_loss: 0.0354\n",
            "Epoch 20/200\n",
            "17/17 [==============================] - 0s 11ms/step - loss: 0.0030 - val_loss: 0.0236\n",
            "Epoch 21/200\n",
            "17/17 [==============================] - 0s 10ms/step - loss: 0.0048 - val_loss: 0.0333\n",
            "Epoch 22/200\n",
            "17/17 [==============================] - 0s 10ms/step - loss: 0.0070 - val_loss: 0.0312\n",
            "Epoch 23/200\n",
            "17/17 [==============================] - 0s 9ms/step - loss: 0.0092 - val_loss: 0.0220\n",
            "Epoch 24/200\n",
            "17/17 [==============================] - 0s 9ms/step - loss: 0.0117 - val_loss: 0.0210\n",
            "Epoch 25/200\n",
            "17/17 [==============================] - 0s 9ms/step - loss: 0.0056 - val_loss: 0.0214\n",
            "Epoch 26/200\n",
            "17/17 [==============================] - 0s 9ms/step - loss: 0.0037 - val_loss: 0.0236\n",
            "Epoch 27/200\n",
            "17/17 [==============================] - 0s 9ms/step - loss: 0.0023 - val_loss: 0.0242\n",
            "Epoch 28/200\n",
            "17/17 [==============================] - 0s 10ms/step - loss: 0.0015 - val_loss: 0.0237\n",
            "Epoch 29/200\n",
            "17/17 [==============================] - 0s 9ms/step - loss: 0.0011 - val_loss: 0.0248\n",
            "Epoch 30/200\n",
            "17/17 [==============================] - 0s 9ms/step - loss: 0.0014 - val_loss: 0.0254\n",
            "Epoch 31/200\n",
            "17/17 [==============================] - 0s 10ms/step - loss: 0.0014 - val_loss: 0.0206\n",
            "Epoch 32/200\n",
            "17/17 [==============================] - 0s 9ms/step - loss: 0.0019 - val_loss: 0.0288\n",
            "Epoch 33/200\n",
            "17/17 [==============================] - 0s 9ms/step - loss: 0.0018 - val_loss: 0.0219\n",
            "Epoch 34/200\n",
            "17/17 [==============================] - 0s 10ms/step - loss: 0.0011 - val_loss: 0.0246\n",
            "Epoch 35/200\n",
            "17/17 [==============================] - 0s 9ms/step - loss: 5.6005e-04 - val_loss: 0.0240\n",
            "Epoch 36/200\n",
            "17/17 [==============================] - 0s 9ms/step - loss: 6.3626e-04 - val_loss: 0.0249\n",
            "Epoch 37/200\n",
            "17/17 [==============================] - 0s 9ms/step - loss: 4.6291e-04 - val_loss: 0.0230\n",
            "Epoch 38/200\n",
            "17/17 [==============================] - 0s 10ms/step - loss: 5.4492e-04 - val_loss: 0.0257\n",
            "Epoch 39/200\n",
            "17/17 [==============================] - 0s 9ms/step - loss: 4.3561e-04 - val_loss: 0.0241\n",
            "Epoch 40/200\n",
            "17/17 [==============================] - 0s 9ms/step - loss: 5.1612e-04 - val_loss: 0.0223\n",
            "Epoch 41/200\n",
            "17/17 [==============================] - 0s 9ms/step - loss: 5.8327e-04 - val_loss: 0.0304\n",
            "Epoch 42/200\n",
            "17/17 [==============================] - 0s 9ms/step - loss: 4.9145e-04 - val_loss: 0.0234\n",
            "Epoch 43/200\n",
            "17/17 [==============================] - 0s 9ms/step - loss: 4.1253e-04 - val_loss: 0.0289\n",
            "Epoch 44/200\n",
            "17/17 [==============================] - 0s 10ms/step - loss: 3.3523e-04 - val_loss: 0.0255\n",
            "Epoch 45/200\n",
            "17/17 [==============================] - 0s 9ms/step - loss: 5.7700e-04 - val_loss: 0.0283\n",
            "Epoch 46/200\n",
            "17/17 [==============================] - 0s 9ms/step - loss: 5.9404e-04 - val_loss: 0.0270\n",
            "Epoch 47/200\n",
            "17/17 [==============================] - 0s 10ms/step - loss: 5.7588e-04 - val_loss: 0.0243\n",
            "Epoch 48/200\n",
            "17/17 [==============================] - 0s 9ms/step - loss: 6.6865e-04 - val_loss: 0.0284\n",
            "Epoch 49/200\n",
            "17/17 [==============================] - 0s 9ms/step - loss: 3.5514e-04 - val_loss: 0.0309\n",
            "Epoch 50/200\n",
            "17/17 [==============================] - 0s 9ms/step - loss: 2.6844e-04 - val_loss: 0.0267\n",
            "Epoch 51/200\n",
            "17/17 [==============================] - 0s 9ms/step - loss: 3.7958e-04 - val_loss: 0.0271\n",
            "Epoch 52/200\n",
            "17/17 [==============================] - 0s 9ms/step - loss: 5.7768e-04 - val_loss: 0.0263\n",
            "Epoch 53/200\n",
            "17/17 [==============================] - 0s 10ms/step - loss: 3.9709e-04 - val_loss: 0.0282\n",
            "Epoch 54/200\n",
            "17/17 [==============================] - 0s 9ms/step - loss: 4.1692e-04 - val_loss: 0.0278\n",
            "Epoch 55/200\n",
            "17/17 [==============================] - 0s 9ms/step - loss: 3.5841e-04 - val_loss: 0.0255\n",
            "Epoch 56/200\n",
            "17/17 [==============================] - 0s 9ms/step - loss: 2.2198e-04 - val_loss: 0.0257\n",
            "Epoch 57/200\n",
            "17/17 [==============================] - 0s 9ms/step - loss: 2.8973e-04 - val_loss: 0.0283\n",
            "Epoch 58/200\n",
            "17/17 [==============================] - 0s 9ms/step - loss: 3.1127e-04 - val_loss: 0.0298\n",
            "Epoch 59/200\n",
            "17/17 [==============================] - 0s 10ms/step - loss: 5.3979e-04 - val_loss: 0.0259\n",
            "Epoch 60/200\n",
            "17/17 [==============================] - 0s 9ms/step - loss: 7.0899e-04 - val_loss: 0.0233\n",
            "Epoch 61/200\n",
            "17/17 [==============================] - 0s 9ms/step - loss: 0.0012 - val_loss: 0.0258\n",
            "Epoch 62/200\n",
            "17/17 [==============================] - 0s 9ms/step - loss: 9.9207e-04 - val_loss: 0.0253\n",
            "Epoch 63/200\n",
            "17/17 [==============================] - 0s 9ms/step - loss: 8.3531e-04 - val_loss: 0.0241\n",
            "Epoch 64/200\n",
            "17/17 [==============================] - 0s 9ms/step - loss: 4.2172e-04 - val_loss: 0.0256\n",
            "Epoch 65/200\n",
            "17/17 [==============================] - 0s 9ms/step - loss: 3.0697e-04 - val_loss: 0.0262\n",
            "Epoch 66/200\n",
            "17/17 [==============================] - 0s 9ms/step - loss: 2.0891e-04 - val_loss: 0.0267\n",
            "Epoch 67/200\n",
            "17/17 [==============================] - 0s 9ms/step - loss: 2.6285e-04 - val_loss: 0.0258\n",
            "Epoch 68/200\n",
            "17/17 [==============================] - 0s 9ms/step - loss: 1.9492e-04 - val_loss: 0.0262\n",
            "Epoch 69/200\n",
            "17/17 [==============================] - 0s 10ms/step - loss: 1.5819e-04 - val_loss: 0.0285\n",
            "Epoch 70/200\n",
            "17/17 [==============================] - 0s 9ms/step - loss: 2.3271e-04 - val_loss: 0.0249\n",
            "Epoch 71/200\n",
            "17/17 [==============================] - 0s 9ms/step - loss: 3.4116e-04 - val_loss: 0.0279\n",
            "Epoch 72/200\n",
            "17/17 [==============================] - 0s 10ms/step - loss: 3.0097e-04 - val_loss: 0.0241\n",
            "Epoch 73/200\n",
            "17/17 [==============================] - 0s 10ms/step - loss: 2.4299e-04 - val_loss: 0.0269\n",
            "Epoch 74/200\n",
            "17/17 [==============================] - 0s 10ms/step - loss: 1.9292e-04 - val_loss: 0.0252\n",
            "Epoch 75/200\n",
            "17/17 [==============================] - 0s 9ms/step - loss: 1.3669e-04 - val_loss: 0.0252\n",
            "Epoch 76/200\n",
            "17/17 [==============================] - 0s 9ms/step - loss: 1.5823e-04 - val_loss: 0.0290\n",
            "Epoch 77/200\n",
            "17/17 [==============================] - 0s 9ms/step - loss: 3.7902e-04 - val_loss: 0.0256\n",
            "Epoch 78/200\n",
            "17/17 [==============================] - 0s 10ms/step - loss: 4.4287e-04 - val_loss: 0.0252\n",
            "Epoch 79/200\n",
            "17/17 [==============================] - 0s 9ms/step - loss: 7.9304e-04 - val_loss: 0.0330\n",
            "Epoch 80/200\n",
            "17/17 [==============================] - 0s 10ms/step - loss: 8.0235e-04 - val_loss: 0.0196\n",
            "Epoch 81/200\n",
            "17/17 [==============================] - 0s 9ms/step - loss: 6.3262e-04 - val_loss: 0.0253\n",
            "Epoch 82/200\n",
            "17/17 [==============================] - 0s 9ms/step - loss: 0.0012 - val_loss: 0.0240\n",
            "Epoch 83/200\n",
            "17/17 [==============================] - 0s 9ms/step - loss: 7.8482e-04 - val_loss: 0.0278\n",
            "Epoch 84/200\n",
            "17/17 [==============================] - 0s 9ms/step - loss: 6.1830e-04 - val_loss: 0.0245\n",
            "Epoch 85/200\n",
            "17/17 [==============================] - 0s 9ms/step - loss: 7.4343e-04 - val_loss: 0.0280\n",
            "Epoch 86/200\n",
            "17/17 [==============================] - 0s 9ms/step - loss: 3.1594e-04 - val_loss: 0.0272\n",
            "Epoch 87/200\n",
            "17/17 [==============================] - 0s 10ms/step - loss: 3.0313e-04 - val_loss: 0.0262\n",
            "Epoch 88/200\n",
            "17/17 [==============================] - 0s 9ms/step - loss: 3.7528e-04 - val_loss: 0.0259\n",
            "Epoch 89/200\n",
            "17/17 [==============================] - 0s 9ms/step - loss: 2.4092e-04 - val_loss: 0.0257\n",
            "Epoch 90/200\n",
            "17/17 [==============================] - 0s 10ms/step - loss: 4.1054e-04 - val_loss: 0.0245\n",
            "Epoch 91/200\n",
            "17/17 [==============================] - 0s 9ms/step - loss: 2.1846e-04 - val_loss: 0.0264\n",
            "Epoch 92/200\n",
            "17/17 [==============================] - 0s 9ms/step - loss: 3.2964e-04 - val_loss: 0.0274\n",
            "Epoch 93/200\n",
            "17/17 [==============================] - 0s 9ms/step - loss: 4.0897e-04 - val_loss: 0.0223\n",
            "Epoch 94/200\n",
            "17/17 [==============================] - 0s 9ms/step - loss: 3.7615e-04 - val_loss: 0.0266\n",
            "Epoch 95/200\n",
            "17/17 [==============================] - 0s 10ms/step - loss: 4.0925e-04 - val_loss: 0.0219\n",
            "Epoch 96/200\n",
            "17/17 [==============================] - 0s 10ms/step - loss: 3.3578e-04 - val_loss: 0.0279\n",
            "Epoch 97/200\n",
            "17/17 [==============================] - 0s 10ms/step - loss: 2.6184e-04 - val_loss: 0.0253\n",
            "Epoch 98/200\n",
            "17/17 [==============================] - 0s 10ms/step - loss: 1.9894e-04 - val_loss: 0.0233\n",
            "Epoch 99/200\n",
            "17/17 [==============================] - 0s 9ms/step - loss: 2.8952e-04 - val_loss: 0.0268\n",
            "Epoch 100/200\n",
            "17/17 [==============================] - 0s 10ms/step - loss: 8.9705e-04 - val_loss: 0.0257\n",
            "Epoch 101/200\n",
            "17/17 [==============================] - 0s 10ms/step - loss: 6.4426e-04 - val_loss: 0.0248\n",
            "Epoch 102/200\n",
            "17/17 [==============================] - 0s 9ms/step - loss: 5.2503e-04 - val_loss: 0.0208\n",
            "Epoch 103/200\n",
            "17/17 [==============================] - 0s 11ms/step - loss: 3.5634e-04 - val_loss: 0.0222\n",
            "Epoch 104/200\n",
            "17/17 [==============================] - 0s 9ms/step - loss: 2.8091e-04 - val_loss: 0.0232\n",
            "Epoch 105/200\n",
            "17/17 [==============================] - 0s 9ms/step - loss: 2.0379e-04 - val_loss: 0.0261\n",
            "Epoch 106/200\n",
            "17/17 [==============================] - 0s 10ms/step - loss: 2.5083e-04 - val_loss: 0.0236\n",
            "Epoch 107/200\n",
            "17/17 [==============================] - 0s 9ms/step - loss: 3.0817e-04 - val_loss: 0.0218\n",
            "Epoch 108/200\n",
            "17/17 [==============================] - 0s 10ms/step - loss: 3.3102e-04 - val_loss: 0.0295\n",
            "Epoch 109/200\n",
            "17/17 [==============================] - 0s 9ms/step - loss: 3.5881e-04 - val_loss: 0.0221\n",
            "Epoch 110/200\n",
            "17/17 [==============================] - 0s 9ms/step - loss: 4.5973e-04 - val_loss: 0.0257\n",
            "Epoch 111/200\n",
            "17/17 [==============================] - 0s 9ms/step - loss: 3.8050e-04 - val_loss: 0.0275\n",
            "Epoch 112/200\n",
            "17/17 [==============================] - 0s 9ms/step - loss: 3.2284e-04 - val_loss: 0.0229\n",
            "Epoch 113/200\n",
            "17/17 [==============================] - 0s 9ms/step - loss: 3.3586e-04 - val_loss: 0.0207\n",
            "Epoch 114/200\n",
            "17/17 [==============================] - 0s 9ms/step - loss: 4.0957e-04 - val_loss: 0.0249\n",
            "Epoch 115/200\n",
            "17/17 [==============================] - 0s 10ms/step - loss: 5.3248e-04 - val_loss: 0.0266\n",
            "Epoch 116/200\n",
            "17/17 [==============================] - 0s 9ms/step - loss: 9.6267e-04 - val_loss: 0.0208\n",
            "Epoch 117/200\n",
            "17/17 [==============================] - 0s 9ms/step - loss: 0.0010 - val_loss: 0.0159\n",
            "Epoch 118/200\n",
            "17/17 [==============================] - 0s 9ms/step - loss: 5.5473e-04 - val_loss: 0.0257\n",
            "Epoch 119/200\n",
            "17/17 [==============================] - 0s 9ms/step - loss: 0.0015 - val_loss: 0.0247\n",
            "Epoch 120/200\n",
            "17/17 [==============================] - 0s 9ms/step - loss: 0.0031 - val_loss: 0.0226\n",
            "Epoch 121/200\n",
            "17/17 [==============================] - 0s 10ms/step - loss: 0.0047 - val_loss: 0.0402\n",
            "Epoch 122/200\n",
            "17/17 [==============================] - 0s 9ms/step - loss: 0.0217 - val_loss: 0.0477\n",
            "Epoch 123/200\n",
            "17/17 [==============================] - 0s 9ms/step - loss: 0.0217 - val_loss: 0.0157\n",
            "Epoch 124/200\n",
            "17/17 [==============================] - 0s 9ms/step - loss: 0.0152 - val_loss: 0.0117\n",
            "Epoch 125/200\n",
            "17/17 [==============================] - 0s 10ms/step - loss: 0.0211 - val_loss: 0.0348\n",
            "Epoch 126/200\n",
            "17/17 [==============================] - 0s 9ms/step - loss: 0.0240 - val_loss: 0.0201\n",
            "Epoch 127/200\n",
            "17/17 [==============================] - 0s 9ms/step - loss: 0.0140 - val_loss: 0.0329\n",
            "Epoch 128/200\n",
            "17/17 [==============================] - 0s 10ms/step - loss: 0.0204 - val_loss: 0.0391\n",
            "Epoch 129/200\n",
            "17/17 [==============================] - 0s 9ms/step - loss: 0.0343 - val_loss: 0.0221\n",
            "Epoch 130/200\n",
            "17/17 [==============================] - 0s 9ms/step - loss: 0.0319 - val_loss: 0.0240\n",
            "Epoch 131/200\n",
            "17/17 [==============================] - 0s 9ms/step - loss: 0.0260 - val_loss: 0.0269\n",
            "Epoch 132/200\n",
            "17/17 [==============================] - 0s 9ms/step - loss: 0.0339 - val_loss: 0.0448\n",
            "Epoch 133/200\n",
            "17/17 [==============================] - 0s 9ms/step - loss: 0.0241 - val_loss: 0.0184\n",
            "Epoch 134/200\n",
            "17/17 [==============================] - 0s 10ms/step - loss: 0.0216 - val_loss: 0.0308\n",
            "Epoch 135/200\n",
            "17/17 [==============================] - 0s 9ms/step - loss: 0.0183 - val_loss: 0.0199\n",
            "Epoch 136/200\n",
            "17/17 [==============================] - 0s 9ms/step - loss: 0.0147 - val_loss: 0.0295\n",
            "Epoch 137/200\n",
            "17/17 [==============================] - 0s 9ms/step - loss: 0.0142 - val_loss: 0.0233\n",
            "Epoch 138/200\n",
            "17/17 [==============================] - 0s 10ms/step - loss: 0.0127 - val_loss: 0.0240\n",
            "Epoch 139/200\n",
            "17/17 [==============================] - 0s 10ms/step - loss: 0.0134 - val_loss: 0.0200\n",
            "Epoch 140/200\n",
            "17/17 [==============================] - 0s 10ms/step - loss: 0.0140 - val_loss: 0.0228\n",
            "Epoch 141/200\n",
            "17/17 [==============================] - 0s 9ms/step - loss: 0.0123 - val_loss: 0.0246\n",
            "Epoch 142/200\n",
            "17/17 [==============================] - 0s 9ms/step - loss: 0.0109 - val_loss: 0.0265\n",
            "Epoch 143/200\n",
            "17/17 [==============================] - 0s 9ms/step - loss: 0.0111 - val_loss: 0.0246\n",
            "Epoch 144/200\n",
            "17/17 [==============================] - 0s 9ms/step - loss: 0.0118 - val_loss: 0.0296\n",
            "Epoch 145/200\n",
            "17/17 [==============================] - 0s 9ms/step - loss: 0.0128 - val_loss: 0.0222\n",
            "Epoch 146/200\n",
            "17/17 [==============================] - 0s 9ms/step - loss: 0.0110 - val_loss: 0.0287\n",
            "Epoch 147/200\n",
            "17/17 [==============================] - 0s 10ms/step - loss: 0.0096 - val_loss: 0.0255\n",
            "Epoch 148/200\n",
            "17/17 [==============================] - 0s 9ms/step - loss: 0.0099 - val_loss: 0.0292\n",
            "Epoch 149/200\n",
            "17/17 [==============================] - 0s 10ms/step - loss: 0.0100 - val_loss: 0.0305\n",
            "Epoch 150/200\n",
            "17/17 [==============================] - 0s 10ms/step - loss: 0.0088 - val_loss: 0.0202\n",
            "Epoch 151/200\n",
            "17/17 [==============================] - 0s 10ms/step - loss: 0.0089 - val_loss: 0.0322\n",
            "Epoch 152/200\n",
            "17/17 [==============================] - 0s 9ms/step - loss: 0.0093 - val_loss: 0.0168\n",
            "Epoch 153/200\n",
            "17/17 [==============================] - 0s 9ms/step - loss: 0.0094 - val_loss: 0.0238\n",
            "Epoch 154/200\n",
            "17/17 [==============================] - 0s 9ms/step - loss: 0.0091 - val_loss: 0.0291\n",
            "Epoch 155/200\n",
            "17/17 [==============================] - 0s 9ms/step - loss: 0.0054 - val_loss: 0.0226\n",
            "Epoch 156/200\n",
            "17/17 [==============================] - 0s 9ms/step - loss: 0.0036 - val_loss: 0.0277\n",
            "Epoch 157/200\n",
            "17/17 [==============================] - 0s 9ms/step - loss: 0.0037 - val_loss: 0.0265\n",
            "Epoch 158/200\n",
            "17/17 [==============================] - 0s 9ms/step - loss: 0.0072 - val_loss: 0.0260\n",
            "Epoch 159/200\n",
            "17/17 [==============================] - 0s 10ms/step - loss: 0.0051 - val_loss: 0.0230\n",
            "Epoch 160/200\n",
            "17/17 [==============================] - 0s 9ms/step - loss: 0.0038 - val_loss: 0.0252\n",
            "Epoch 161/200\n",
            "17/17 [==============================] - 0s 10ms/step - loss: 0.0024 - val_loss: 0.0295\n",
            "Epoch 162/200\n",
            "17/17 [==============================] - 0s 9ms/step - loss: 0.0016 - val_loss: 0.0277\n",
            "Epoch 163/200\n",
            "17/17 [==============================] - 0s 10ms/step - loss: 0.0015 - val_loss: 0.0237\n",
            "Epoch 164/200\n",
            "17/17 [==============================] - 0s 10ms/step - loss: 0.0016 - val_loss: 0.0268\n",
            "Epoch 165/200\n",
            "17/17 [==============================] - 0s 10ms/step - loss: 0.0015 - val_loss: 0.0227\n",
            "Epoch 166/200\n",
            "17/17 [==============================] - 0s 9ms/step - loss: 0.0017 - val_loss: 0.0266\n",
            "Epoch 167/200\n",
            "17/17 [==============================] - 0s 9ms/step - loss: 0.0012 - val_loss: 0.0243\n",
            "Epoch 168/200\n",
            "17/17 [==============================] - 0s 10ms/step - loss: 0.0014 - val_loss: 0.0262\n",
            "Epoch 169/200\n",
            "17/17 [==============================] - 0s 9ms/step - loss: 0.0011 - val_loss: 0.0240\n",
            "Epoch 170/200\n",
            "17/17 [==============================] - 0s 9ms/step - loss: 0.0011 - val_loss: 0.0254\n",
            "Epoch 171/200\n",
            "17/17 [==============================] - 0s 9ms/step - loss: 0.0013 - val_loss: 0.0240\n",
            "Epoch 172/200\n",
            "17/17 [==============================] - 0s 10ms/step - loss: 0.0013 - val_loss: 0.0225\n",
            "Epoch 173/200\n",
            "17/17 [==============================] - 0s 9ms/step - loss: 0.0012 - val_loss: 0.0258\n",
            "Epoch 174/200\n",
            "17/17 [==============================] - 0s 9ms/step - loss: 0.0011 - val_loss: 0.0261\n",
            "Epoch 175/200\n",
            "17/17 [==============================] - 0s 10ms/step - loss: 8.8479e-04 - val_loss: 0.0245\n",
            "Epoch 176/200\n",
            "17/17 [==============================] - 0s 9ms/step - loss: 9.2357e-04 - val_loss: 0.0255\n",
            "Epoch 177/200\n",
            "17/17 [==============================] - 0s 10ms/step - loss: 8.5036e-04 - val_loss: 0.0268\n",
            "Epoch 178/200\n",
            "17/17 [==============================] - 0s 9ms/step - loss: 9.2367e-04 - val_loss: 0.0227\n",
            "Epoch 179/200\n",
            "17/17 [==============================] - 0s 10ms/step - loss: 8.8530e-04 - val_loss: 0.0256\n",
            "Epoch 180/200\n",
            "17/17 [==============================] - 0s 9ms/step - loss: 8.0774e-04 - val_loss: 0.0257\n",
            "Epoch 181/200\n",
            "17/17 [==============================] - 0s 9ms/step - loss: 8.9905e-04 - val_loss: 0.0246\n",
            "Epoch 182/200\n",
            "17/17 [==============================] - 0s 9ms/step - loss: 7.6239e-04 - val_loss: 0.0270\n",
            "Epoch 183/200\n",
            "17/17 [==============================] - 0s 10ms/step - loss: 8.7719e-04 - val_loss: 0.0160\n",
            "Epoch 184/200\n",
            "17/17 [==============================] - 0s 9ms/step - loss: 0.0010 - val_loss: 0.0225\n",
            "Epoch 185/200\n",
            "17/17 [==============================] - 0s 9ms/step - loss: 7.9107e-04 - val_loss: 0.0230\n",
            "Epoch 186/200\n",
            "17/17 [==============================] - 0s 9ms/step - loss: 7.0689e-04 - val_loss: 0.0229\n",
            "Epoch 187/200\n",
            "17/17 [==============================] - 0s 9ms/step - loss: 7.5321e-04 - val_loss: 0.0253\n",
            "Epoch 188/200\n",
            "17/17 [==============================] - 0s 10ms/step - loss: 6.6866e-04 - val_loss: 0.0249\n",
            "Epoch 189/200\n",
            "17/17 [==============================] - 0s 10ms/step - loss: 6.4351e-04 - val_loss: 0.0246\n",
            "Epoch 190/200\n",
            "17/17 [==============================] - 0s 9ms/step - loss: 6.4916e-04 - val_loss: 0.0235\n",
            "Epoch 191/200\n",
            "17/17 [==============================] - 0s 9ms/step - loss: 6.0100e-04 - val_loss: 0.0263\n",
            "Epoch 192/200\n",
            "17/17 [==============================] - 0s 9ms/step - loss: 7.9124e-04 - val_loss: 0.0231\n",
            "Epoch 193/200\n",
            "17/17 [==============================] - 0s 9ms/step - loss: 7.2682e-04 - val_loss: 0.0253\n",
            "Epoch 194/200\n",
            "17/17 [==============================] - 0s 9ms/step - loss: 6.6117e-04 - val_loss: 0.0248\n",
            "Epoch 195/200\n",
            "17/17 [==============================] - 0s 10ms/step - loss: 6.3635e-04 - val_loss: 0.0226\n",
            "Epoch 196/200\n",
            "17/17 [==============================] - 0s 9ms/step - loss: 7.2056e-04 - val_loss: 0.0259\n",
            "Epoch 197/200\n",
            "17/17 [==============================] - 0s 10ms/step - loss: 6.4495e-04 - val_loss: 0.0224\n",
            "Epoch 198/200\n",
            "17/17 [==============================] - 0s 10ms/step - loss: 6.0255e-04 - val_loss: 0.0267\n",
            "Epoch 199/200\n",
            "17/17 [==============================] - 0s 9ms/step - loss: 6.2911e-04 - val_loss: 0.0234\n",
            "Epoch 200/200\n",
            "17/17 [==============================] - 0s 10ms/step - loss: 6.3108e-04 - val_loss: 0.0254\n"
          ]
        },
        {
          "output_type": "execute_result",
          "data": {
            "text/plain": [
              "<keras.callbacks.History at 0x7f90c1784310>"
            ]
          },
          "metadata": {},
          "execution_count": 45
        }
      ],
      "source": [
        "model.fit(X_train,y_train,validation_data=(X_test,ytest),epochs=200,batch_size=6,verbose=1)"
      ]
    },
    {
      "cell_type": "code",
      "execution_count": null,
      "metadata": {
        "id": "L90M6xf-4nrA"
      },
      "outputs": [],
      "source": [
        "import tensorflow as tf\n"
      ]
    },
    {
      "cell_type": "code",
      "execution_count": null,
      "metadata": {
        "id": "khCOYPhA_4Ay",
        "colab": {
          "base_uri": "https://localhost:8080/"
        },
        "outputId": "cae7df3e-bc69-41c2-c3c8-c1d8f535215f"
      },
      "outputs": [
        {
          "output_type": "stream",
          "name": "stdout",
          "text": [
            "4/4 [==============================] - 0s 5ms/step\n",
            "1/1 [==============================] - 0s 18ms/step\n"
          ]
        }
      ],
      "source": [
        "### Lets Do the prediction and check performance metrics\n",
        "train_predict=model.predict(X_train)\n",
        "test_predict=model.predict(X_test)"
      ]
    },
    {
      "cell_type": "code",
      "execution_count": null,
      "metadata": {
        "id": "I7QWp43e_6Xd"
      },
      "outputs": [],
      "source": [
        "##Transformback to original form\n",
        "train_predict=scaler.inverse_transform(train_predict)\n",
        "test_predict=scaler.inverse_transform(test_predict)"
      ]
    },
    {
      "cell_type": "code",
      "execution_count": null,
      "metadata": {
        "id": "rn1h946a_9it",
        "colab": {
          "base_uri": "https://localhost:8080/"
        },
        "outputId": "eb0620cc-a596-4bfe-a0ff-b69f7a14ba13"
      },
      "outputs": [
        {
          "output_type": "execute_result",
          "data": {
            "text/plain": [
              "0.08358756979861244"
            ]
          },
          "metadata": {},
          "execution_count": 48
        }
      ],
      "source": [
        "### Calculate RMSE performance metrics\n",
        "import math\n",
        "from sklearn.metrics import mean_squared_error\n",
        "math.sqrt(mean_squared_error(y_train,train_predict))"
      ]
    },
    {
      "cell_type": "code",
      "execution_count": null,
      "metadata": {
        "id": "A6LcvQqn__Op",
        "colab": {
          "base_uri": "https://localhost:8080/"
        },
        "outputId": "13ef9ff0-6bc1-46f5-adea-47c228b2478e"
      },
      "outputs": [
        {
          "output_type": "execute_result",
          "data": {
            "text/plain": [
              "0.1610011722137868"
            ]
          },
          "metadata": {},
          "execution_count": 49
        }
      ],
      "source": [
        "### Test Data RMSE\n",
        "math.sqrt(mean_squared_error(ytest,test_predict))"
      ]
    },
    {
      "cell_type": "code",
      "execution_count": null,
      "metadata": {
        "id": "PJTUDx4RAhll",
        "colab": {
          "base_uri": "https://localhost:8080/"
        },
        "outputId": "8d5a6c3f-e53b-45ed-e049-baa387e382c0"
      },
      "outputs": [
        {
          "output_type": "execute_result",
          "data": {
            "text/plain": [
              "29"
            ]
          },
          "metadata": {},
          "execution_count": 30
        }
      ],
      "source": [
        "len(test_data)"
      ]
    },
    {
      "cell_type": "code",
      "execution_count": null,
      "metadata": {
        "id": "xMp4MZAGAkOr",
        "colab": {
          "base_uri": "https://localhost:8080/"
        },
        "outputId": "ab449c7b-ae52-4ab9-92d3-fcda89871c1d"
      },
      "outputs": [
        {
          "output_type": "execute_result",
          "data": {
            "text/plain": [
              "(1, 10)"
            ]
          },
          "metadata": {},
          "execution_count": 31
        }
      ],
      "source": [
        "x_input=test_data[19:].reshape(1,-1)\n",
        "x_input.shape"
      ]
    },
    {
      "cell_type": "code",
      "execution_count": null,
      "metadata": {
        "id": "oafi284eAePb"
      },
      "outputs": [],
      "source": [
        "temp_input=list(x_input)\n",
        "temp_input=temp_input[0].tolist()"
      ]
    },
    {
      "cell_type": "code",
      "execution_count": null,
      "metadata": {
        "id": "vFgCsG0BAEaT",
        "colab": {
          "base_uri": "https://localhost:8080/"
        },
        "outputId": "46adc032-671e-405d-ac34-cf312f756541"
      },
      "outputs": [
        {
          "output_type": "stream",
          "name": "stdout",
          "text": [
            "[0.41905212]\n",
            "11\n",
            "1 month input [0.1874374  0.50736872 0.31334955 0.94648734 0.23365288 0.52253541\n",
            " 0.71111747 0.86249821 0.19487766 0.41905212]\n",
            "1 month output [[0.26754662]]\n",
            "2 month input [0.50736872 0.31334955 0.94648734 0.23365288 0.52253541 0.71111747\n",
            " 0.86249821 0.19487766 0.41905212 0.26754662]\n",
            "2 month output [[0.51161665]]\n",
            "3 month input [0.31334955 0.94648734 0.23365288 0.52253541 0.71111747 0.86249821\n",
            " 0.19487766 0.41905212 0.26754662 0.51161665]\n",
            "3 month output [[0.51336515]]\n",
            "4 month input [0.94648734 0.23365288 0.52253541 0.71111747 0.86249821 0.19487766\n",
            " 0.41905212 0.26754662 0.51161665 0.51336515]\n",
            "4 month output [[0.22647804]]\n",
            "5 month input [0.23365288 0.52253541 0.71111747 0.86249821 0.19487766 0.41905212\n",
            " 0.26754662 0.51161665 0.51336515 0.22647804]\n",
            "5 month output [[0.26972398]]\n",
            "6 month input [0.52253541 0.71111747 0.86249821 0.19487766 0.41905212 0.26754662\n",
            " 0.51161665 0.51336515 0.22647804 0.26972398]\n",
            "6 month output [[0.42105627]]\n",
            "7 month input [0.71111747 0.86249821 0.19487766 0.41905212 0.26754662 0.51161665\n",
            " 0.51336515 0.22647804 0.26972398 0.42105627]\n",
            "7 month output [[0.2806477]]\n",
            "8 month input [0.86249821 0.19487766 0.41905212 0.26754662 0.51161665 0.51336515\n",
            " 0.22647804 0.26972398 0.42105627 0.2806477 ]\n",
            "8 month output [[0.28289482]]\n",
            "9 month input [0.19487766 0.41905212 0.26754662 0.51161665 0.51336515 0.22647804\n",
            " 0.26972398 0.42105627 0.2806477  0.28289482]\n",
            "9 month output [[0.6727254]]\n",
            "10 month input [0.41905212 0.26754662 0.51161665 0.51336515 0.22647804 0.26972398\n",
            " 0.42105627 0.2806477  0.28289482 0.67272538]\n",
            "10 month output [[0.27079922]]\n",
            "11 month input [0.26754662 0.51161665 0.51336515 0.22647804 0.26972398 0.42105627\n",
            " 0.2806477  0.28289482 0.67272538 0.27079922]\n",
            "11 month output [[0.24918461]]\n",
            "[[0.4190521240234375], [0.2675466239452362], [0.5116166472434998], [0.5133651494979858], [0.22647804021835327], [0.2697239816188812], [0.42105627059936523], [0.2806476950645447], [0.2828948199748993], [0.6727253794670105], [0.2707992196083069], [0.24918460845947266]]\n"
          ]
        }
      ],
      "source": [
        "# demonstrate prediction for next 12 months\n",
        "from numpy import array\n",
        "\n",
        "lst_output=[]\n",
        "n_steps=10\n",
        "i=0\n",
        "while(i<12):\n",
        "    \n",
        "    if(len(temp_input)>10):\n",
        "        #print(temp_input)\n",
        "        x_input=np.array(temp_input[1:])\n",
        "        print(\"{} month input {}\".format(i,x_input))\n",
        "        x_input=x_input.reshape(1,-1)\n",
        "        x_input = x_input.reshape((1, n_steps, 1))\n",
        "        #print(x_input)\n",
        "        yhat = model.predict(x_input, verbose=0)\n",
        "        print(\"{} month output {}\".format(i,yhat))\n",
        "        temp_input.extend(yhat[0].tolist())\n",
        "        temp_input=temp_input[1:]\n",
        "        #print(temp_input)\n",
        "        lst_output.extend(yhat.tolist())\n",
        "        i=i+1\n",
        "    else:\n",
        "        x_input = x_input.reshape((1, n_steps,1))\n",
        "        yhat = model.predict(x_input, verbose=0)\n",
        "        print(yhat[0])\n",
        "        temp_input.extend(yhat[0].tolist())\n",
        "        print(len(temp_input))\n",
        "        lst_output.extend(yhat.tolist())\n",
        "        i=i+1\n",
        "    \n",
        "\n",
        "print(lst_output)"
      ]
    },
    {
      "cell_type": "code",
      "execution_count": null,
      "metadata": {
        "id": "mUj99Oyh2LYg"
      },
      "outputs": [],
      "source": []
    },
    {
      "cell_type": "code",
      "execution_count": null,
      "metadata": {
        "id": "ZXJipduEFMnZ",
        "colab": {
          "base_uri": "https://localhost:8080/"
        },
        "outputId": "29e132a9-6d30-4163-d370-3c6e4d577f35"
      },
      "outputs": [
        {
          "output_type": "stream",
          "name": "stdout",
          "text": [
            "Looking in indexes: https://pypi.org/simple, https://us-python.pkg.dev/colab-wheels/public/simple/\n",
            "Collecting gradio\n",
            "  Downloading gradio-3.9.1-py3-none-any.whl (11.6 MB)\n",
            "\u001b[K     |████████████████████████████████| 11.6 MB 4.8 MB/s \n",
            "\u001b[?25hCollecting uvicorn\n",
            "  Downloading uvicorn-0.19.0-py3-none-any.whl (56 kB)\n",
            "\u001b[K     |████████████████████████████████| 56 kB 5.5 MB/s \n",
            "\u001b[?25hCollecting paramiko\n",
            "  Downloading paramiko-2.12.0-py2.py3-none-any.whl (213 kB)\n",
            "\u001b[K     |████████████████████████████████| 213 kB 64.8 MB/s \n",
            "\u001b[?25hCollecting websockets>=10.0\n",
            "  Downloading websockets-10.4-cp37-cp37m-manylinux_2_5_x86_64.manylinux1_x86_64.manylinux_2_17_x86_64.manylinux2014_x86_64.whl (106 kB)\n",
            "\u001b[K     |████████████████████████████████| 106 kB 65.7 MB/s \n",
            "\u001b[?25hRequirement already satisfied: pydantic in /usr/local/lib/python3.7/dist-packages (from gradio) (1.10.2)\n",
            "Collecting pycryptodome\n",
            "  Downloading pycryptodome-3.15.0-cp35-abi3-manylinux2010_x86_64.whl (2.3 MB)\n",
            "\u001b[K     |████████████████████████████████| 2.3 MB 43.9 MB/s \n",
            "\u001b[?25hRequirement already satisfied: requests in /usr/local/lib/python3.7/dist-packages (from gradio) (2.23.0)\n",
            "Collecting python-multipart\n",
            "  Downloading python-multipart-0.0.5.tar.gz (32 kB)\n",
            "Collecting httpx\n",
            "  Downloading httpx-0.23.0-py3-none-any.whl (84 kB)\n",
            "\u001b[K     |████████████████████████████████| 84 kB 4.5 MB/s \n",
            "\u001b[?25hCollecting pydub\n",
            "  Downloading pydub-0.25.1-py2.py3-none-any.whl (32 kB)\n",
            "Collecting orjson\n",
            "  Downloading orjson-3.8.1-cp37-cp37m-manylinux_2_17_x86_64.manylinux2014_x86_64.whl (272 kB)\n",
            "\u001b[K     |████████████████████████████████| 272 kB 59.1 MB/s \n",
            "\u001b[?25hCollecting markdown-it-py[linkify,plugins]\n",
            "  Downloading markdown_it_py-2.1.0-py3-none-any.whl (84 kB)\n",
            "\u001b[K     |████████████████████████████████| 84 kB 3.5 MB/s \n",
            "\u001b[?25hRequirement already satisfied: numpy in /usr/local/lib/python3.7/dist-packages (from gradio) (1.21.6)\n",
            "Requirement already satisfied: pillow in /usr/local/lib/python3.7/dist-packages (from gradio) (7.1.2)\n",
            "Requirement already satisfied: jinja2 in /usr/local/lib/python3.7/dist-packages (from gradio) (2.11.3)\n",
            "Collecting ffmpy\n",
            "  Downloading ffmpy-0.3.0.tar.gz (4.8 kB)\n",
            "Requirement already satisfied: pandas in /usr/local/lib/python3.7/dist-packages (from gradio) (1.3.5)\n",
            "Collecting fastapi\n",
            "  Downloading fastapi-0.87.0-py3-none-any.whl (55 kB)\n",
            "\u001b[K     |████████████████████████████████| 55 kB 4.3 MB/s \n",
            "\u001b[?25hRequirement already satisfied: fsspec in /usr/local/lib/python3.7/dist-packages (from gradio) (2022.10.0)\n",
            "Requirement already satisfied: matplotlib in /usr/local/lib/python3.7/dist-packages (from gradio) (3.2.2)\n",
            "Collecting h11<0.13,>=0.11\n",
            "  Downloading h11-0.12.0-py3-none-any.whl (54 kB)\n",
            "\u001b[K     |████████████████████████████████| 54 kB 4.1 MB/s \n",
            "\u001b[?25hRequirement already satisfied: aiohttp in /usr/local/lib/python3.7/dist-packages (from gradio) (3.8.3)\n",
            "Requirement already satisfied: pyyaml in /usr/local/lib/python3.7/dist-packages (from gradio) (6.0)\n",
            "Requirement already satisfied: attrs>=17.3.0 in /usr/local/lib/python3.7/dist-packages (from aiohttp->gradio) (22.1.0)\n",
            "Requirement already satisfied: charset-normalizer<3.0,>=2.0 in /usr/local/lib/python3.7/dist-packages (from aiohttp->gradio) (2.1.1)\n",
            "Requirement already satisfied: multidict<7.0,>=4.5 in /usr/local/lib/python3.7/dist-packages (from aiohttp->gradio) (6.0.2)\n",
            "Requirement already satisfied: frozenlist>=1.1.1 in /usr/local/lib/python3.7/dist-packages (from aiohttp->gradio) (1.3.3)\n",
            "Requirement already satisfied: yarl<2.0,>=1.0 in /usr/local/lib/python3.7/dist-packages (from aiohttp->gradio) (1.8.1)\n",
            "Requirement already satisfied: typing-extensions>=3.7.4 in /usr/local/lib/python3.7/dist-packages (from aiohttp->gradio) (4.1.1)\n",
            "Requirement already satisfied: aiosignal>=1.1.2 in /usr/local/lib/python3.7/dist-packages (from aiohttp->gradio) (1.3.1)\n",
            "Requirement already satisfied: asynctest==0.13.0 in /usr/local/lib/python3.7/dist-packages (from aiohttp->gradio) (0.13.0)\n",
            "Requirement already satisfied: async-timeout<5.0,>=4.0.0a3 in /usr/local/lib/python3.7/dist-packages (from aiohttp->gradio) (4.0.2)\n",
            "Requirement already satisfied: idna>=2.0 in /usr/local/lib/python3.7/dist-packages (from yarl<2.0,>=1.0->aiohttp->gradio) (2.10)\n",
            "Collecting starlette==0.21.0\n",
            "  Downloading starlette-0.21.0-py3-none-any.whl (64 kB)\n",
            "\u001b[K     |████████████████████████████████| 64 kB 3.2 MB/s \n",
            "\u001b[?25hCollecting anyio<5,>=3.4.0\n",
            "  Downloading anyio-3.6.2-py3-none-any.whl (80 kB)\n",
            "\u001b[K     |████████████████████████████████| 80 kB 11.3 MB/s \n",
            "\u001b[?25hCollecting sniffio>=1.1\n",
            "  Downloading sniffio-1.3.0-py3-none-any.whl (10 kB)\n",
            "Collecting httpcore<0.16.0,>=0.15.0\n",
            "  Downloading httpcore-0.15.0-py3-none-any.whl (68 kB)\n",
            "\u001b[K     |████████████████████████████████| 68 kB 8.0 MB/s \n",
            "\u001b[?25hCollecting rfc3986[idna2008]<2,>=1.3\n",
            "  Downloading rfc3986-1.5.0-py2.py3-none-any.whl (31 kB)\n",
            "Requirement already satisfied: certifi in /usr/local/lib/python3.7/dist-packages (from httpx->gradio) (2022.9.24)\n",
            "Requirement already satisfied: MarkupSafe>=0.23 in /usr/local/lib/python3.7/dist-packages (from jinja2->gradio) (2.0.1)\n",
            "Collecting mdurl~=0.1\n",
            "  Downloading mdurl-0.1.2-py3-none-any.whl (10.0 kB)\n",
            "Collecting mdit-py-plugins\n",
            "  Downloading mdit_py_plugins-0.3.1-py3-none-any.whl (46 kB)\n",
            "\u001b[K     |████████████████████████████████| 46 kB 5.0 MB/s \n",
            "\u001b[?25hCollecting linkify-it-py~=1.0\n",
            "  Downloading linkify_it_py-1.0.3-py3-none-any.whl (19 kB)\n",
            "Collecting uc-micro-py\n",
            "  Downloading uc_micro_py-1.0.1-py3-none-any.whl (6.2 kB)\n",
            "Requirement already satisfied: cycler>=0.10 in /usr/local/lib/python3.7/dist-packages (from matplotlib->gradio) (0.11.0)\n",
            "Requirement already satisfied: kiwisolver>=1.0.1 in /usr/local/lib/python3.7/dist-packages (from matplotlib->gradio) (1.4.4)\n",
            "Requirement already satisfied: python-dateutil>=2.1 in /usr/local/lib/python3.7/dist-packages (from matplotlib->gradio) (2.8.2)\n",
            "Requirement already satisfied: pyparsing!=2.0.4,!=2.1.2,!=2.1.6,>=2.0.1 in /usr/local/lib/python3.7/dist-packages (from matplotlib->gradio) (3.0.9)\n",
            "Requirement already satisfied: six>=1.5 in /usr/local/lib/python3.7/dist-packages (from python-dateutil>=2.1->matplotlib->gradio) (1.15.0)\n",
            "Requirement already satisfied: pytz>=2017.3 in /usr/local/lib/python3.7/dist-packages (from pandas->gradio) (2022.6)\n",
            "Collecting bcrypt>=3.1.3\n",
            "  Downloading bcrypt-4.0.1-cp36-abi3-manylinux_2_24_x86_64.whl (593 kB)\n",
            "\u001b[K     |████████████████████████████████| 593 kB 63.9 MB/s \n",
            "\u001b[?25hCollecting cryptography>=2.5\n",
            "  Downloading cryptography-38.0.3-cp36-abi3-manylinux_2_24_x86_64.whl (4.1 MB)\n",
            "\u001b[K     |████████████████████████████████| 4.1 MB 50.8 MB/s \n",
            "\u001b[?25hCollecting pynacl>=1.0.1\n",
            "  Downloading PyNaCl-1.5.0-cp36-abi3-manylinux_2_17_x86_64.manylinux2014_x86_64.manylinux_2_24_x86_64.whl (856 kB)\n",
            "\u001b[K     |████████████████████████████████| 856 kB 41.1 MB/s \n",
            "\u001b[?25hRequirement already satisfied: cffi>=1.12 in /usr/local/lib/python3.7/dist-packages (from cryptography>=2.5->paramiko->gradio) (1.15.1)\n",
            "Requirement already satisfied: pycparser in /usr/local/lib/python3.7/dist-packages (from cffi>=1.12->cryptography>=2.5->paramiko->gradio) (2.21)\n",
            "Requirement already satisfied: chardet<4,>=3.0.2 in /usr/local/lib/python3.7/dist-packages (from requests->gradio) (3.0.4)\n",
            "Requirement already satisfied: urllib3!=1.25.0,!=1.25.1,<1.26,>=1.21.1 in /usr/local/lib/python3.7/dist-packages (from requests->gradio) (1.24.3)\n",
            "Requirement already satisfied: click>=7.0 in /usr/local/lib/python3.7/dist-packages (from uvicorn->gradio) (7.1.2)\n",
            "Building wheels for collected packages: ffmpy, python-multipart\n",
            "  Building wheel for ffmpy (setup.py) ... \u001b[?25l\u001b[?25hdone\n",
            "  Created wheel for ffmpy: filename=ffmpy-0.3.0-py3-none-any.whl size=4709 sha256=615a9cadf0928ec04c9918d6ba880c83c29aadf196b7f0f0653de43ee7b717a2\n",
            "  Stored in directory: /root/.cache/pip/wheels/13/e4/6c/e8059816e86796a597c6e6b0d4c880630f51a1fcfa0befd5e6\n",
            "  Building wheel for python-multipart (setup.py) ... \u001b[?25l\u001b[?25hdone\n",
            "  Created wheel for python-multipart: filename=python_multipart-0.0.5-py3-none-any.whl size=31677 sha256=725747bc56fed675d511b3d1f65b74f5f261c1d9279542ab1bfa5ad7f81972bf\n",
            "  Stored in directory: /root/.cache/pip/wheels/2c/41/7c/bfd1c180534ffdcc0972f78c5758f89881602175d48a8bcd2c\n",
            "Successfully built ffmpy python-multipart\n",
            "Installing collected packages: sniffio, mdurl, uc-micro-py, rfc3986, markdown-it-py, h11, anyio, starlette, pynacl, mdit-py-plugins, linkify-it-py, httpcore, cryptography, bcrypt, websockets, uvicorn, python-multipart, pydub, pycryptodome, paramiko, orjson, httpx, ffmpy, fastapi, gradio\n",
            "Successfully installed anyio-3.6.2 bcrypt-4.0.1 cryptography-38.0.3 fastapi-0.87.0 ffmpy-0.3.0 gradio-3.9.1 h11-0.12.0 httpcore-0.15.0 httpx-0.23.0 linkify-it-py-1.0.3 markdown-it-py-2.1.0 mdit-py-plugins-0.3.1 mdurl-0.1.2 orjson-3.8.1 paramiko-2.12.0 pycryptodome-3.15.0 pydub-0.25.1 pynacl-1.5.0 python-multipart-0.0.5 rfc3986-1.5.0 sniffio-1.3.0 starlette-0.21.0 uc-micro-py-1.0.1 uvicorn-0.19.0 websockets-10.4\n"
          ]
        }
      ],
      "source": [
        "! pip install gradio"
      ]
    },
    {
      "cell_type": "code",
      "execution_count": null,
      "metadata": {
        "id": "bgQk2wO6kb1P"
      },
      "outputs": [],
      "source": [
        "def realoutput(x,y):\n",
        "    \n",
        "  \n",
        "\n",
        "    months = ['january','february','march','april','may','june','july','august','september','october','november','december']\n",
        "    \n",
        "    \n",
        "    def data_loader(year):\n",
        "        \n",
        "        month_paths =  glob.glob(os.path.join(os.getcwd(),'data',year, \"*.csv\"))\n",
        "        val_array = list()\n",
        "        i = 0\n",
        "        for month_path in month_paths:\n",
        "            #df = pd.read_excel(month_path) \n",
        "     \n",
        "            \n",
        "            #array = np.asarray(df)\n",
        "            \n",
        "            array = np.loadtxt(month_path, delimiter=',')\n",
        "            \n",
        "            val = array[x][y]\n",
        "            val_list = list([year,months[i],val])\n",
        "            val_array.append(val_list)\n",
        "            i+=1\n",
        "    \n",
        "    \n",
        "        df = pd.DataFrame(val_array,columns = ['Year','Month','NDVI'])\n",
        "        \n",
        "        return df\n",
        "    \n",
        "    years = ['2010','2011','2012','2013','2014','2015','2016','2017','2018','2019','2020','2021']\n",
        "    ndvi_data = pd.DataFrame(columns = ['Year','Month','NDVI'])\n",
        "    \n",
        "    for i in range(12):\n",
        "        ndvi_data = pd.concat([ndvi_data,data_loader(years[i])])\n",
        "    \n",
        "    \n",
        "    ndvi_data['NDVI'] = ndvi_data['NDVI'] / 10000\n",
        "    ndvi_data = ndvi_data.reset_index()\n",
        "    \n",
        "    df_req = ndvi_data['NDVI']\n",
        "    from sklearn.preprocessing import MinMaxScaler\n",
        "    scaler=MinMaxScaler(feature_range=(0,1))\n",
        "    df_req=scaler.fit_transform(np.array(df_req).reshape(-1,1))\n",
        "    \n",
        "    \n",
        "    training_size=int(len(df_req)*0.80)\n",
        "    test_size=len(df_req)-training_size\n",
        "    train_data,test_data=df_req[0:training_size,:],df_req[training_size:len(df_req),:1]\n",
        "    \n",
        "    \n",
        "    import numpy\n",
        "\n",
        "    def create_dataset(dataset, time_step=1):\n",
        "        dataX, dataY = [], []\n",
        "        for i in range(len(dataset)-time_step-1):\n",
        "          a = dataset[i:(i+time_step), 0]\n",
        "          dataX.append(a)\n",
        "          dataY.append(dataset[i + time_step, 0])\n",
        "        return numpy.array(dataX), numpy.array(dataY)\n",
        "    \t  \n",
        "    \n",
        "    time_step = 12\n",
        "    X_train, y_train = create_dataset(train_data, time_step)\n",
        "    X_test, ytest = create_dataset(test_data, time_step)\n",
        "    \n",
        "    \n",
        "    # reshape input to be [samples, time steps, features] which is required for LSTM\n",
        "    X_train =X_train.reshape(X_train.shape[0],X_train.shape[1] , 1)\n",
        "    X_test = X_test.reshape(X_test.shape[0],X_test.shape[1] , 1)\n",
        "    \n",
        "    \n",
        "    model=Sequential()\n",
        "    model.add(LSTM(50,return_sequences=True,input_shape=(12,1)))\n",
        "    model.add(LSTM(50,return_sequences=True))\n",
        "    model.add(LSTM(50))\n",
        "    model.add(Dense(1))\n",
        "    model.compile(loss='mean_squared_error',optimizer='adam')\n",
        "    \n",
        "    model.summary()\n",
        "    \n",
        "    model.fit(X_train,y_train,validation_data=(X_test,ytest),epochs=200,batch_size=6,verbose=1)\n",
        "    \n",
        "    train_predict=model.predict(X_train)\n",
        "    test_predict=model.predict(X_test)\n",
        "    \n",
        "    train_predict=scaler.inverse_transform(train_predict)\n",
        "    test_predict=scaler.inverse_transform(test_predict)\n",
        "    \n",
        "    \n",
        "    \n",
        "    import math\n",
        "    from sklearn.metrics import mean_squared_error\n",
        "    math.sqrt(mean_squared_error(y_train,train_predict))\n",
        "    \n",
        "    math.sqrt(mean_squared_error(ytest,test_predict))\n",
        "    x_input=test_data[19:].reshape(1,-1)\n",
        "    \n",
        "    temp_input=list(x_input)\n",
        "    temp_input=temp_input[0].tolist()\n",
        "    \n",
        "    \n",
        "    \n",
        "    lst_output=[]\n",
        "    n_steps=10\n",
        "    i=0\n",
        "    while(i<12):\n",
        "        \n",
        "        if(len(temp_input)>10):\n",
        "            #print(temp_input)\n",
        "            x_input=np.array(temp_input[1:])\n",
        "            print(\"{} month input {}\".format(i,x_input))\n",
        "            x_input=x_input.reshape(1,-1)\n",
        "            x_input = x_input.reshape((1, n_steps, 1))\n",
        "            #print(x_input)\n",
        "            yhat = model.predict(x_input, verbose=0)\n",
        "            print(\"{} month output {}\".format(i,yhat))\n",
        "            temp_input.extend(yhat[0].tolist())\n",
        "            temp_input=temp_input[1:]\n",
        "            #print(temp_input)\n",
        "            lst_output.extend(yhat.tolist())\n",
        "            i=i+1\n",
        "        else:\n",
        "            x_input = x_input.reshape((1, n_steps,1))\n",
        "            yhat = model.predict(x_input, verbose=0)\n",
        "            print(yhat[0])\n",
        "            temp_input.extend(yhat[0].tolist())\n",
        "            print(len(temp_input))\n",
        "            lst_output.extend(yhat.tolist())\n",
        "            i=i+1\n",
        "        \n",
        "    \n",
        "    lst_output_str = str()\n",
        "    for output in lst_output:\n",
        "      lst_output_str= lst_output_str + ' , '+str(output)\n",
        "    \n",
        "    return lst_output_str\n"
      ]
    },
    {
      "cell_type": "code",
      "execution_count": null,
      "metadata": {
        "colab": {
          "base_uri": "https://localhost:8080/"
        },
        "id": "wb9MzEycHoBX",
        "outputId": "807fd773-e67c-4b3a-a32c-aacdae61acf5"
      },
      "outputs": [
        {
          "output_type": "stream",
          "name": "stdout",
          "text": [
            "Looking in indexes: https://pypi.org/simple, https://us-python.pkg.dev/colab-wheels/public/simple/\n",
            "Requirement already satisfied: gradio in /usr/local/lib/python3.7/dist-packages (3.9.1)\n",
            "Requirement already satisfied: python-multipart in /usr/local/lib/python3.7/dist-packages (from gradio) (0.0.5)\n",
            "Requirement already satisfied: pydantic in /usr/local/lib/python3.7/dist-packages (from gradio) (1.10.2)\n",
            "Requirement already satisfied: pycryptodome in /usr/local/lib/python3.7/dist-packages (from gradio) (3.15.0)\n",
            "Requirement already satisfied: pyyaml in /usr/local/lib/python3.7/dist-packages (from gradio) (6.0)\n",
            "Requirement already satisfied: requests in /usr/local/lib/python3.7/dist-packages (from gradio) (2.23.0)\n",
            "Requirement already satisfied: aiohttp in /usr/local/lib/python3.7/dist-packages (from gradio) (3.8.3)\n",
            "Requirement already satisfied: markdown-it-py[linkify,plugins] in /usr/local/lib/python3.7/dist-packages (from gradio) (2.1.0)\n",
            "Requirement already satisfied: fastapi in /usr/local/lib/python3.7/dist-packages (from gradio) (0.87.0)\n",
            "Requirement already satisfied: ffmpy in /usr/local/lib/python3.7/dist-packages (from gradio) (0.3.0)\n",
            "Requirement already satisfied: pandas in /usr/local/lib/python3.7/dist-packages (from gradio) (1.3.5)\n",
            "Requirement already satisfied: pydub in /usr/local/lib/python3.7/dist-packages (from gradio) (0.25.1)\n",
            "Requirement already satisfied: pillow in /usr/local/lib/python3.7/dist-packages (from gradio) (7.1.2)\n",
            "Requirement already satisfied: h11<0.13,>=0.11 in /usr/local/lib/python3.7/dist-packages (from gradio) (0.12.0)\n",
            "Requirement already satisfied: httpx in /usr/local/lib/python3.7/dist-packages (from gradio) (0.23.0)\n",
            "Requirement already satisfied: uvicorn in /usr/local/lib/python3.7/dist-packages (from gradio) (0.19.0)\n",
            "Requirement already satisfied: jinja2 in /usr/local/lib/python3.7/dist-packages (from gradio) (2.11.3)\n",
            "Requirement already satisfied: numpy in /usr/local/lib/python3.7/dist-packages (from gradio) (1.21.6)\n",
            "Requirement already satisfied: websockets>=10.0 in /usr/local/lib/python3.7/dist-packages (from gradio) (10.4)\n",
            "Requirement already satisfied: orjson in /usr/local/lib/python3.7/dist-packages (from gradio) (3.8.1)\n",
            "Requirement already satisfied: fsspec in /usr/local/lib/python3.7/dist-packages (from gradio) (2022.10.0)\n",
            "Requirement already satisfied: paramiko in /usr/local/lib/python3.7/dist-packages (from gradio) (2.12.0)\n",
            "Requirement already satisfied: matplotlib in /usr/local/lib/python3.7/dist-packages (from gradio) (3.2.2)\n",
            "Requirement already satisfied: multidict<7.0,>=4.5 in /usr/local/lib/python3.7/dist-packages (from aiohttp->gradio) (6.0.2)\n",
            "Requirement already satisfied: charset-normalizer<3.0,>=2.0 in /usr/local/lib/python3.7/dist-packages (from aiohttp->gradio) (2.1.1)\n",
            "Requirement already satisfied: aiosignal>=1.1.2 in /usr/local/lib/python3.7/dist-packages (from aiohttp->gradio) (1.3.1)\n",
            "Requirement already satisfied: async-timeout<5.0,>=4.0.0a3 in /usr/local/lib/python3.7/dist-packages (from aiohttp->gradio) (4.0.2)\n",
            "Requirement already satisfied: frozenlist>=1.1.1 in /usr/local/lib/python3.7/dist-packages (from aiohttp->gradio) (1.3.3)\n",
            "Requirement already satisfied: typing-extensions>=3.7.4 in /usr/local/lib/python3.7/dist-packages (from aiohttp->gradio) (4.1.1)\n",
            "Requirement already satisfied: yarl<2.0,>=1.0 in /usr/local/lib/python3.7/dist-packages (from aiohttp->gradio) (1.8.1)\n",
            "Requirement already satisfied: asynctest==0.13.0 in /usr/local/lib/python3.7/dist-packages (from aiohttp->gradio) (0.13.0)\n",
            "Requirement already satisfied: attrs>=17.3.0 in /usr/local/lib/python3.7/dist-packages (from aiohttp->gradio) (22.1.0)\n",
            "Requirement already satisfied: idna>=2.0 in /usr/local/lib/python3.7/dist-packages (from yarl<2.0,>=1.0->aiohttp->gradio) (2.10)\n",
            "Requirement already satisfied: starlette==0.21.0 in /usr/local/lib/python3.7/dist-packages (from fastapi->gradio) (0.21.0)\n",
            "Requirement already satisfied: anyio<5,>=3.4.0 in /usr/local/lib/python3.7/dist-packages (from starlette==0.21.0->fastapi->gradio) (3.6.2)\n",
            "Requirement already satisfied: sniffio>=1.1 in /usr/local/lib/python3.7/dist-packages (from anyio<5,>=3.4.0->starlette==0.21.0->fastapi->gradio) (1.3.0)\n",
            "Requirement already satisfied: httpcore<0.16.0,>=0.15.0 in /usr/local/lib/python3.7/dist-packages (from httpx->gradio) (0.15.0)\n",
            "Requirement already satisfied: certifi in /usr/local/lib/python3.7/dist-packages (from httpx->gradio) (2022.9.24)\n",
            "Requirement already satisfied: rfc3986[idna2008]<2,>=1.3 in /usr/local/lib/python3.7/dist-packages (from httpx->gradio) (1.5.0)\n",
            "Requirement already satisfied: MarkupSafe>=0.23 in /usr/local/lib/python3.7/dist-packages (from jinja2->gradio) (2.0.1)\n",
            "Requirement already satisfied: mdurl~=0.1 in /usr/local/lib/python3.7/dist-packages (from markdown-it-py[linkify,plugins]->gradio) (0.1.2)\n",
            "Requirement already satisfied: mdit-py-plugins in /usr/local/lib/python3.7/dist-packages (from markdown-it-py[linkify,plugins]->gradio) (0.3.1)\n",
            "Requirement already satisfied: linkify-it-py~=1.0 in /usr/local/lib/python3.7/dist-packages (from markdown-it-py[linkify,plugins]->gradio) (1.0.3)\n",
            "Requirement already satisfied: uc-micro-py in /usr/local/lib/python3.7/dist-packages (from linkify-it-py~=1.0->markdown-it-py[linkify,plugins]->gradio) (1.0.1)\n",
            "Requirement already satisfied: kiwisolver>=1.0.1 in /usr/local/lib/python3.7/dist-packages (from matplotlib->gradio) (1.4.4)\n",
            "Requirement already satisfied: python-dateutil>=2.1 in /usr/local/lib/python3.7/dist-packages (from matplotlib->gradio) (2.8.2)\n",
            "Requirement already satisfied: cycler>=0.10 in /usr/local/lib/python3.7/dist-packages (from matplotlib->gradio) (0.11.0)\n",
            "Requirement already satisfied: pyparsing!=2.0.4,!=2.1.2,!=2.1.6,>=2.0.1 in /usr/local/lib/python3.7/dist-packages (from matplotlib->gradio) (3.0.9)\n",
            "Requirement already satisfied: six>=1.5 in /usr/local/lib/python3.7/dist-packages (from python-dateutil>=2.1->matplotlib->gradio) (1.15.0)\n",
            "Requirement already satisfied: pytz>=2017.3 in /usr/local/lib/python3.7/dist-packages (from pandas->gradio) (2022.6)\n",
            "Requirement already satisfied: pynacl>=1.0.1 in /usr/local/lib/python3.7/dist-packages (from paramiko->gradio) (1.5.0)\n",
            "Requirement already satisfied: bcrypt>=3.1.3 in /usr/local/lib/python3.7/dist-packages (from paramiko->gradio) (4.0.1)\n",
            "Requirement already satisfied: cryptography>=2.5 in /usr/local/lib/python3.7/dist-packages (from paramiko->gradio) (38.0.3)\n",
            "Requirement already satisfied: cffi>=1.12 in /usr/local/lib/python3.7/dist-packages (from cryptography>=2.5->paramiko->gradio) (1.15.1)\n",
            "Requirement already satisfied: pycparser in /usr/local/lib/python3.7/dist-packages (from cffi>=1.12->cryptography>=2.5->paramiko->gradio) (2.21)\n",
            "Requirement already satisfied: urllib3!=1.25.0,!=1.25.1,<1.26,>=1.21.1 in /usr/local/lib/python3.7/dist-packages (from requests->gradio) (1.24.3)\n",
            "Requirement already satisfied: chardet<4,>=3.0.2 in /usr/local/lib/python3.7/dist-packages (from requests->gradio) (3.0.4)\n",
            "Requirement already satisfied: click>=7.0 in /usr/local/lib/python3.7/dist-packages (from uvicorn->gradio) (7.1.2)\n"
          ]
        }
      ],
      "source": [
        "! pip install gradio"
      ]
    },
    {
      "cell_type": "code",
      "execution_count": null,
      "metadata": {
        "colab": {
          "base_uri": "https://localhost:8080/",
          "height": 1000
        },
        "id": "yn0ReGYFGhI0",
        "outputId": "f18ebf5d-185a-4069-998b-ba71d1597d6c"
      },
      "outputs": [
        {
          "output_type": "stream",
          "name": "stderr",
          "text": [
            "/usr/local/lib/python3.7/dist-packages/gradio/inputs.py:89: UserWarning: Usage of gradio.inputs is deprecated, and will not be supported in the future, please import your component from gradio.components\n",
            "  \"Usage of gradio.inputs is deprecated, and will not be supported in the future, please import your component from gradio.components\",\n",
            "/usr/local/lib/python3.7/dist-packages/gradio/deprecation.py:40: UserWarning: `optional` parameter is deprecated, and it has no effect\n",
            "  warnings.warn(value)\n"
          ]
        },
        {
          "output_type": "stream",
          "name": "stdout",
          "text": [
            "Colab notebook detected. This cell will run indefinitely so that you can see errors and logs. To turn off, set debug=False in launch().\n",
            "\n",
            "Using Embedded Colab Mode (NEW). If you have issues, please use share=True and file an issue at https://github.com/gradio-app/gradio/\n",
            "Note: opening the browser inspector may crash Embedded Colab Mode.\n",
            "\n",
            "To create a public link, set `share=True` in `launch()`.\n"
          ]
        },
        {
          "output_type": "display_data",
          "data": {
            "text/plain": [
              "<IPython.core.display.Javascript object>"
            ],
            "application/javascript": [
              "(async (port, path, width, height, cache, element) => {\n",
              "                        if (!google.colab.kernel.accessAllowed && !cache) {\n",
              "                            return;\n",
              "                        }\n",
              "                        element.appendChild(document.createTextNode(''));\n",
              "                        const url = await google.colab.kernel.proxyPort(port, {cache});\n",
              "\n",
              "                        const external_link = document.createElement('div');\n",
              "                        external_link.innerHTML = `\n",
              "                            <div style=\"font-family: monospace; margin-bottom: 0.5rem\">\n",
              "                                Running on <a href=${new URL(path, url).toString()} target=\"_blank\">\n",
              "                                    https://localhost:${port}${path}\n",
              "                                </a>\n",
              "                            </div>\n",
              "                        `;\n",
              "                        element.appendChild(external_link);\n",
              "\n",
              "                        const iframe = document.createElement('iframe');\n",
              "                        iframe.src = new URL(path, url).toString();\n",
              "                        iframe.height = height;\n",
              "                        iframe.allow = \"autoplay; camera; microphone; clipboard-read; clipboard-write;\"\n",
              "                        iframe.width = width;\n",
              "                        iframe.style.border = 0;\n",
              "                        element.appendChild(iframe);\n",
              "                    })(7860, \"/\", \"100%\", 500, false, window.element)"
            ]
          },
          "metadata": {}
        },
        {
          "output_type": "stream",
          "name": "stdout",
          "text": [
            "Model: \"sequential\"\n",
            "_________________________________________________________________\n",
            " Layer (type)                Output Shape              Param #   \n",
            "=================================================================\n",
            " lstm (LSTM)                 (None, 12, 50)            10400     \n",
            "                                                                 \n",
            " lstm_1 (LSTM)               (None, 12, 50)            20200     \n",
            "                                                                 \n",
            " lstm_2 (LSTM)               (None, 50)                20200     \n",
            "                                                                 \n",
            " dense (Dense)               (None, 1)                 51        \n",
            "                                                                 \n",
            "=================================================================\n",
            "Total params: 50,851\n",
            "Trainable params: 50,851\n",
            "Non-trainable params: 0\n",
            "_________________________________________________________________\n",
            "Epoch 1/200\n",
            "17/17 [==============================] - 5s 89ms/step - loss: 0.0918 - val_loss: 0.0655\n",
            "Epoch 2/200\n",
            "17/17 [==============================] - 0s 9ms/step - loss: 0.0420 - val_loss: 0.0555\n",
            "Epoch 3/200\n",
            "17/17 [==============================] - 0s 10ms/step - loss: 0.0405 - val_loss: 0.0579\n",
            "Epoch 4/200\n",
            "17/17 [==============================] - 0s 9ms/step - loss: 0.0418 - val_loss: 0.0709\n",
            "Epoch 5/200\n",
            "17/17 [==============================] - 0s 9ms/step - loss: 0.0378 - val_loss: 0.0648\n",
            "Epoch 6/200\n",
            "17/17 [==============================] - 0s 9ms/step - loss: 0.0390 - val_loss: 0.0867\n",
            "Epoch 7/200\n",
            "17/17 [==============================] - 0s 9ms/step - loss: 0.0393 - val_loss: 0.0623\n",
            "Epoch 8/200\n",
            "17/17 [==============================] - 0s 9ms/step - loss: 0.0379 - val_loss: 0.0626\n",
            "Epoch 9/200\n",
            "17/17 [==============================] - 0s 9ms/step - loss: 0.0382 - val_loss: 0.0635\n",
            "Epoch 10/200\n",
            "17/17 [==============================] - 0s 8ms/step - loss: 0.0398 - val_loss: 0.0765\n",
            "Epoch 11/200\n",
            "17/17 [==============================] - 0s 8ms/step - loss: 0.0371 - val_loss: 0.0559\n",
            "Epoch 12/200\n",
            "17/17 [==============================] - 0s 9ms/step - loss: 0.0388 - val_loss: 0.0634\n",
            "Epoch 13/200\n",
            "17/17 [==============================] - 0s 8ms/step - loss: 0.0381 - val_loss: 0.0571\n",
            "Epoch 14/200\n",
            "17/17 [==============================] - 0s 9ms/step - loss: 0.0369 - val_loss: 0.0639\n",
            "Epoch 15/200\n",
            "17/17 [==============================] - 0s 8ms/step - loss: 0.0411 - val_loss: 0.0537\n",
            "Epoch 16/200\n",
            "17/17 [==============================] - 0s 8ms/step - loss: 0.0398 - val_loss: 0.0532\n",
            "Epoch 17/200\n",
            "17/17 [==============================] - 0s 8ms/step - loss: 0.0373 - val_loss: 0.0519\n",
            "Epoch 18/200\n",
            "17/17 [==============================] - 0s 9ms/step - loss: 0.0383 - val_loss: 0.0480\n",
            "Epoch 19/200\n",
            "17/17 [==============================] - 0s 9ms/step - loss: 0.0369 - val_loss: 0.0575\n",
            "Epoch 20/200\n",
            "17/17 [==============================] - 0s 9ms/step - loss: 0.0361 - val_loss: 0.0567\n",
            "Epoch 21/200\n",
            "17/17 [==============================] - 0s 9ms/step - loss: 0.0363 - val_loss: 0.0504\n",
            "Epoch 22/200\n",
            "17/17 [==============================] - 0s 9ms/step - loss: 0.0350 - val_loss: 0.0545\n",
            "Epoch 23/200\n",
            "17/17 [==============================] - 0s 9ms/step - loss: 0.0370 - val_loss: 0.0661\n",
            "Epoch 24/200\n",
            "17/17 [==============================] - 0s 8ms/step - loss: 0.0419 - val_loss: 0.0737\n",
            "Epoch 25/200\n",
            "17/17 [==============================] - 0s 9ms/step - loss: 0.0409 - val_loss: 0.0589\n",
            "Epoch 26/200\n",
            "17/17 [==============================] - 0s 8ms/step - loss: 0.0349 - val_loss: 0.0599\n",
            "Epoch 27/200\n",
            "17/17 [==============================] - 0s 9ms/step - loss: 0.0377 - val_loss: 0.0665\n",
            "Epoch 28/200\n",
            "17/17 [==============================] - 0s 9ms/step - loss: 0.0412 - val_loss: 0.0688\n",
            "Epoch 29/200\n",
            "17/17 [==============================] - 0s 9ms/step - loss: 0.0374 - val_loss: 0.0432\n",
            "Epoch 30/200\n",
            "17/17 [==============================] - 0s 9ms/step - loss: 0.0346 - val_loss: 0.0445\n",
            "Epoch 31/200\n",
            "17/17 [==============================] - 0s 9ms/step - loss: 0.0338 - val_loss: 0.0490\n",
            "Epoch 32/200\n",
            "17/17 [==============================] - 0s 9ms/step - loss: 0.0397 - val_loss: 0.0514\n",
            "Epoch 33/200\n",
            "17/17 [==============================] - 0s 9ms/step - loss: 0.0343 - val_loss: 0.0489\n",
            "Epoch 34/200\n",
            "17/17 [==============================] - 0s 9ms/step - loss: 0.0341 - val_loss: 0.0538\n",
            "Epoch 35/200\n",
            "17/17 [==============================] - 0s 8ms/step - loss: 0.0344 - val_loss: 0.0487\n",
            "Epoch 36/200\n",
            "17/17 [==============================] - 0s 9ms/step - loss: 0.0338 - val_loss: 0.0483\n",
            "Epoch 37/200\n",
            "17/17 [==============================] - 0s 9ms/step - loss: 0.0331 - val_loss: 0.0415\n",
            "Epoch 38/200\n",
            "17/17 [==============================] - 0s 9ms/step - loss: 0.0322 - val_loss: 0.0372\n",
            "Epoch 39/200\n",
            "17/17 [==============================] - 0s 9ms/step - loss: 0.0384 - val_loss: 0.0612\n",
            "Epoch 40/200\n",
            "17/17 [==============================] - 0s 8ms/step - loss: 0.0330 - val_loss: 0.0497\n",
            "Epoch 41/200\n",
            "17/17 [==============================] - 0s 9ms/step - loss: 0.0341 - val_loss: 0.0769\n",
            "Epoch 42/200\n",
            "17/17 [==============================] - 0s 8ms/step - loss: 0.0359 - val_loss: 0.0826\n",
            "Epoch 43/200\n",
            "17/17 [==============================] - 0s 9ms/step - loss: 0.0349 - val_loss: 0.0487\n",
            "Epoch 44/200\n",
            "17/17 [==============================] - 0s 9ms/step - loss: 0.0333 - val_loss: 0.0496\n",
            "Epoch 45/200\n",
            "17/17 [==============================] - 0s 9ms/step - loss: 0.0323 - val_loss: 0.0518\n",
            "Epoch 46/200\n",
            "17/17 [==============================] - 0s 9ms/step - loss: 0.0338 - val_loss: 0.0539\n",
            "Epoch 47/200\n",
            "17/17 [==============================] - 0s 9ms/step - loss: 0.0330 - val_loss: 0.0500\n",
            "Epoch 48/200\n",
            "17/17 [==============================] - 0s 9ms/step - loss: 0.0319 - val_loss: 0.0453\n",
            "Epoch 49/200\n",
            "17/17 [==============================] - 0s 8ms/step - loss: 0.0321 - val_loss: 0.0450\n",
            "Epoch 50/200\n",
            "17/17 [==============================] - 0s 9ms/step - loss: 0.0315 - val_loss: 0.0412\n",
            "Epoch 51/200\n",
            "17/17 [==============================] - 0s 9ms/step - loss: 0.0352 - val_loss: 0.0394\n",
            "Epoch 52/200\n",
            "17/17 [==============================] - 0s 11ms/step - loss: 0.0312 - val_loss: 0.0454\n",
            "Epoch 53/200\n",
            "17/17 [==============================] - 0s 9ms/step - loss: 0.0305 - val_loss: 0.0560\n",
            "Epoch 54/200\n",
            "17/17 [==============================] - 0s 9ms/step - loss: 0.0308 - val_loss: 0.0321\n",
            "Epoch 55/200\n",
            "17/17 [==============================] - 0s 8ms/step - loss: 0.0358 - val_loss: 0.0353\n",
            "Epoch 56/200\n",
            "17/17 [==============================] - 0s 9ms/step - loss: 0.0366 - val_loss: 0.0455\n",
            "Epoch 57/200\n",
            "17/17 [==============================] - 0s 9ms/step - loss: 0.0307 - val_loss: 0.0408\n",
            "Epoch 58/200\n",
            "17/17 [==============================] - 0s 9ms/step - loss: 0.0344 - val_loss: 0.0318\n",
            "Epoch 59/200\n",
            "17/17 [==============================] - 0s 9ms/step - loss: 0.0319 - val_loss: 0.0409\n",
            "Epoch 60/200\n",
            "17/17 [==============================] - 0s 9ms/step - loss: 0.0315 - val_loss: 0.0396\n",
            "Epoch 61/200\n",
            "17/17 [==============================] - 0s 8ms/step - loss: 0.0300 - val_loss: 0.0344\n",
            "Epoch 62/200\n",
            "17/17 [==============================] - 0s 9ms/step - loss: 0.0298 - val_loss: 0.0387\n",
            "Epoch 63/200\n",
            "17/17 [==============================] - 0s 9ms/step - loss: 0.0305 - val_loss: 0.0293\n",
            "Epoch 64/200\n",
            "17/17 [==============================] - 0s 10ms/step - loss: 0.0301 - val_loss: 0.0531\n",
            "Epoch 65/200\n",
            "17/17 [==============================] - 0s 10ms/step - loss: 0.0304 - val_loss: 0.0418\n",
            "Epoch 66/200\n",
            "17/17 [==============================] - 0s 9ms/step - loss: 0.0294 - val_loss: 0.0315\n",
            "Epoch 67/200\n",
            "17/17 [==============================] - 0s 9ms/step - loss: 0.0275 - val_loss: 0.0391\n",
            "Epoch 68/200\n",
            "17/17 [==============================] - 0s 9ms/step - loss: 0.0274 - val_loss: 0.0913\n",
            "Epoch 69/200\n",
            "17/17 [==============================] - 0s 9ms/step - loss: 0.0310 - val_loss: 0.0389\n",
            "Epoch 70/200\n",
            "17/17 [==============================] - 0s 9ms/step - loss: 0.0295 - val_loss: 0.0315\n",
            "Epoch 71/200\n",
            "17/17 [==============================] - 0s 9ms/step - loss: 0.0311 - val_loss: 0.0460\n",
            "Epoch 72/200\n",
            "17/17 [==============================] - 0s 9ms/step - loss: 0.0280 - val_loss: 0.0501\n",
            "Epoch 73/200\n",
            "17/17 [==============================] - 0s 8ms/step - loss: 0.0275 - val_loss: 0.0520\n",
            "Epoch 74/200\n",
            "17/17 [==============================] - 0s 9ms/step - loss: 0.0274 - val_loss: 0.0410\n",
            "Epoch 75/200\n",
            "17/17 [==============================] - 0s 9ms/step - loss: 0.0266 - val_loss: 0.0248\n",
            "Epoch 76/200\n",
            "17/17 [==============================] - 0s 9ms/step - loss: 0.0333 - val_loss: 0.0414\n",
            "Epoch 77/200\n",
            "17/17 [==============================] - 0s 11ms/step - loss: 0.0274 - val_loss: 0.0465\n",
            "Epoch 78/200\n",
            "17/17 [==============================] - 0s 13ms/step - loss: 0.0268 - val_loss: 0.0500\n",
            "Epoch 79/200\n",
            "17/17 [==============================] - 0s 12ms/step - loss: 0.0273 - val_loss: 0.0288\n",
            "Epoch 80/200\n",
            "17/17 [==============================] - 0s 12ms/step - loss: 0.0269 - val_loss: 0.0599\n",
            "Epoch 81/200\n",
            "17/17 [==============================] - 0s 12ms/step - loss: 0.0263 - val_loss: 0.0854\n",
            "Epoch 82/200\n",
            "17/17 [==============================] - 0s 13ms/step - loss: 0.0257 - val_loss: 0.0830\n",
            "Epoch 83/200\n",
            "17/17 [==============================] - 0s 13ms/step - loss: 0.0261 - val_loss: 0.0814\n",
            "Epoch 84/200\n",
            "17/17 [==============================] - 0s 12ms/step - loss: 0.0259 - val_loss: 0.0390\n",
            "Epoch 85/200\n",
            "17/17 [==============================] - 0s 17ms/step - loss: 0.0259 - val_loss: 0.1690\n",
            "Epoch 86/200\n",
            "17/17 [==============================] - 0s 13ms/step - loss: 0.0264 - val_loss: 0.0498\n",
            "Epoch 87/200\n",
            "17/17 [==============================] - 0s 12ms/step - loss: 0.0254 - val_loss: 0.0521\n",
            "Epoch 88/200\n",
            "17/17 [==============================] - 0s 11ms/step - loss: 0.0249 - val_loss: 0.0431\n",
            "Epoch 89/200\n",
            "17/17 [==============================] - 0s 11ms/step - loss: 0.0252 - val_loss: 0.0564\n",
            "Epoch 90/200\n",
            "17/17 [==============================] - 0s 9ms/step - loss: 0.0260 - val_loss: 0.0571\n",
            "Epoch 91/200\n",
            "17/17 [==============================] - 0s 9ms/step - loss: 0.0265 - val_loss: 0.0381\n",
            "Epoch 92/200\n",
            "17/17 [==============================] - 0s 10ms/step - loss: 0.0247 - val_loss: 0.0579\n",
            "Epoch 93/200\n",
            "17/17 [==============================] - 0s 9ms/step - loss: 0.0254 - val_loss: 0.0531\n",
            "Epoch 94/200\n",
            "17/17 [==============================] - 0s 8ms/step - loss: 0.0255 - val_loss: 0.0688\n",
            "Epoch 95/200\n",
            "17/17 [==============================] - 0s 9ms/step - loss: 0.0238 - val_loss: 0.0448\n",
            "Epoch 96/200\n",
            "17/17 [==============================] - 0s 9ms/step - loss: 0.0239 - val_loss: 0.0835\n",
            "Epoch 97/200\n",
            "17/17 [==============================] - 0s 9ms/step - loss: 0.0254 - val_loss: 0.0312\n",
            "Epoch 98/200\n",
            "17/17 [==============================] - 0s 8ms/step - loss: 0.0249 - val_loss: 0.0551\n",
            "Epoch 99/200\n",
            "17/17 [==============================] - 0s 10ms/step - loss: 0.0234 - val_loss: 0.0581\n",
            "Epoch 100/200\n",
            "17/17 [==============================] - 0s 9ms/step - loss: 0.0248 - val_loss: 0.0686\n",
            "Epoch 101/200\n",
            "17/17 [==============================] - 0s 8ms/step - loss: 0.0277 - val_loss: 0.1260\n",
            "Epoch 102/200\n",
            "17/17 [==============================] - 0s 9ms/step - loss: 0.0254 - val_loss: 0.0495\n",
            "Epoch 103/200\n",
            "17/17 [==============================] - 0s 9ms/step - loss: 0.0267 - val_loss: 0.0538\n",
            "Epoch 104/200\n",
            "17/17 [==============================] - 0s 9ms/step - loss: 0.0230 - val_loss: 0.0284\n",
            "Epoch 105/200\n",
            "17/17 [==============================] - 0s 9ms/step - loss: 0.0295 - val_loss: 0.0433\n",
            "Epoch 106/200\n",
            "17/17 [==============================] - 0s 9ms/step - loss: 0.0255 - val_loss: 0.0549\n",
            "Epoch 107/200\n",
            "17/17 [==============================] - 0s 8ms/step - loss: 0.0232 - val_loss: 0.0760\n",
            "Epoch 108/200\n",
            "17/17 [==============================] - 0s 9ms/step - loss: 0.0263 - val_loss: 0.1457\n",
            "Epoch 109/200\n",
            "17/17 [==============================] - 0s 9ms/step - loss: 0.0281 - val_loss: 0.0379\n",
            "Epoch 110/200\n",
            "17/17 [==============================] - 0s 9ms/step - loss: 0.0249 - val_loss: 0.0359\n",
            "Epoch 111/200\n",
            "17/17 [==============================] - 0s 9ms/step - loss: 0.0246 - val_loss: 0.0318\n",
            "Epoch 112/200\n",
            "17/17 [==============================] - 0s 9ms/step - loss: 0.0256 - val_loss: 0.0340\n",
            "Epoch 113/200\n",
            "17/17 [==============================] - 0s 9ms/step - loss: 0.0251 - val_loss: 0.0409\n",
            "Epoch 114/200\n",
            "17/17 [==============================] - 0s 8ms/step - loss: 0.0248 - val_loss: 0.0440\n",
            "Epoch 115/200\n",
            "17/17 [==============================] - 0s 9ms/step - loss: 0.0256 - val_loss: 0.0348\n",
            "Epoch 116/200\n",
            "17/17 [==============================] - 0s 9ms/step - loss: 0.0264 - val_loss: 0.0475\n",
            "Epoch 117/200\n",
            "17/17 [==============================] - 0s 9ms/step - loss: 0.0250 - val_loss: 0.0556\n",
            "Epoch 118/200\n",
            "17/17 [==============================] - 0s 9ms/step - loss: 0.0231 - val_loss: 0.0414\n",
            "Epoch 119/200\n",
            "17/17 [==============================] - 0s 8ms/step - loss: 0.0255 - val_loss: 0.0307\n",
            "Epoch 120/200\n",
            "17/17 [==============================] - 0s 9ms/step - loss: 0.0258 - val_loss: 0.0624\n",
            "Epoch 121/200\n",
            "17/17 [==============================] - 0s 8ms/step - loss: 0.0223 - val_loss: 0.0533\n",
            "Epoch 122/200\n",
            "17/17 [==============================] - 0s 9ms/step - loss: 0.0233 - val_loss: 0.0542\n",
            "Epoch 123/200\n",
            "17/17 [==============================] - 0s 10ms/step - loss: 0.0230 - val_loss: 0.0663\n",
            "Epoch 124/200\n",
            "17/17 [==============================] - 0s 9ms/step - loss: 0.0238 - val_loss: 0.0591\n",
            "Epoch 125/200\n",
            "17/17 [==============================] - 0s 9ms/step - loss: 0.0261 - val_loss: 0.0330\n",
            "Epoch 126/200\n",
            "17/17 [==============================] - 0s 9ms/step - loss: 0.0223 - val_loss: 0.0698\n",
            "Epoch 127/200\n",
            "17/17 [==============================] - 0s 9ms/step - loss: 0.0219 - val_loss: 0.0491\n",
            "Epoch 128/200\n",
            "17/17 [==============================] - 0s 9ms/step - loss: 0.0220 - val_loss: 0.0562\n",
            "Epoch 129/200\n",
            "17/17 [==============================] - 0s 9ms/step - loss: 0.0224 - val_loss: 0.1043\n",
            "Epoch 130/200\n",
            "17/17 [==============================] - 0s 9ms/step - loss: 0.0229 - val_loss: 0.0514\n",
            "Epoch 131/200\n",
            "17/17 [==============================] - 0s 10ms/step - loss: 0.0223 - val_loss: 0.0360\n",
            "Epoch 132/200\n",
            "17/17 [==============================] - 0s 9ms/step - loss: 0.0241 - val_loss: 0.1332\n",
            "Epoch 133/200\n",
            "17/17 [==============================] - 0s 9ms/step - loss: 0.0282 - val_loss: 0.0403\n",
            "Epoch 134/200\n",
            "17/17 [==============================] - 0s 9ms/step - loss: 0.0228 - val_loss: 0.0638\n",
            "Epoch 135/200\n",
            "17/17 [==============================] - 0s 8ms/step - loss: 0.0218 - val_loss: 0.0518\n",
            "Epoch 136/200\n",
            "17/17 [==============================] - 0s 9ms/step - loss: 0.0217 - val_loss: 0.0557\n",
            "Epoch 137/200\n",
            "17/17 [==============================] - 0s 9ms/step - loss: 0.0221 - val_loss: 0.0651\n",
            "Epoch 138/200\n",
            "17/17 [==============================] - 0s 9ms/step - loss: 0.0227 - val_loss: 0.0650\n",
            "Epoch 139/200\n",
            "17/17 [==============================] - 0s 9ms/step - loss: 0.0246 - val_loss: 0.0967\n",
            "Epoch 140/200\n",
            "17/17 [==============================] - 0s 20ms/step - loss: 0.0229 - val_loss: 0.0254\n",
            "Epoch 141/200\n",
            "17/17 [==============================] - 0s 23ms/step - loss: 0.0224 - val_loss: 0.1168\n",
            "Epoch 142/200\n",
            "17/17 [==============================] - 0s 12ms/step - loss: 0.0221 - val_loss: 0.0584\n",
            "Epoch 143/200\n",
            "17/17 [==============================] - 0s 9ms/step - loss: 0.0226 - val_loss: 0.0636\n",
            "Epoch 144/200\n",
            "17/17 [==============================] - 0s 9ms/step - loss: 0.0252 - val_loss: 0.0872\n",
            "Epoch 145/200\n",
            "17/17 [==============================] - 0s 16ms/step - loss: 0.0231 - val_loss: 0.0537\n",
            "Epoch 146/200\n",
            "17/17 [==============================] - 0s 23ms/step - loss: 0.0213 - val_loss: 0.0630\n",
            "Epoch 147/200\n",
            "17/17 [==============================] - 0s 13ms/step - loss: 0.0215 - val_loss: 0.0531\n",
            "Epoch 148/200\n",
            "17/17 [==============================] - 0s 9ms/step - loss: 0.0207 - val_loss: 0.1032\n",
            "Epoch 149/200\n",
            "17/17 [==============================] - 0s 8ms/step - loss: 0.0221 - val_loss: 0.0745\n",
            "Epoch 150/200\n",
            "17/17 [==============================] - 0s 9ms/step - loss: 0.0221 - val_loss: 0.0844\n",
            "Epoch 151/200\n",
            "17/17 [==============================] - 0s 9ms/step - loss: 0.0242 - val_loss: 0.1326\n",
            "Epoch 152/200\n",
            "17/17 [==============================] - 0s 9ms/step - loss: 0.0229 - val_loss: 0.0486\n",
            "Epoch 153/200\n",
            "17/17 [==============================] - 0s 9ms/step - loss: 0.0210 - val_loss: 0.1172\n",
            "Epoch 154/200\n",
            "17/17 [==============================] - 0s 8ms/step - loss: 0.0271 - val_loss: 0.0567\n",
            "Epoch 155/200\n",
            "17/17 [==============================] - 0s 8ms/step - loss: 0.0218 - val_loss: 0.0450\n",
            "Epoch 156/200\n",
            "17/17 [==============================] - 0s 9ms/step - loss: 0.0229 - val_loss: 0.0484\n",
            "Epoch 157/200\n",
            "17/17 [==============================] - 0s 9ms/step - loss: 0.0221 - val_loss: 0.0820\n",
            "Epoch 158/200\n",
            "17/17 [==============================] - 0s 9ms/step - loss: 0.0204 - val_loss: 0.0838\n",
            "Epoch 159/200\n",
            "17/17 [==============================] - 0s 9ms/step - loss: 0.0214 - val_loss: 0.0844\n",
            "Epoch 160/200\n",
            "17/17 [==============================] - 0s 9ms/step - loss: 0.0211 - val_loss: 0.1170\n",
            "Epoch 161/200\n",
            "17/17 [==============================] - 0s 9ms/step - loss: 0.0203 - val_loss: 0.0639\n",
            "Epoch 162/200\n",
            "17/17 [==============================] - 0s 9ms/step - loss: 0.0236 - val_loss: 0.0513\n",
            "Epoch 163/200\n",
            "17/17 [==============================] - 0s 9ms/step - loss: 0.0241 - val_loss: 0.1194\n",
            "Epoch 164/200\n",
            "17/17 [==============================] - 0s 9ms/step - loss: 0.0255 - val_loss: 0.0682\n",
            "Epoch 165/200\n",
            "17/17 [==============================] - 0s 9ms/step - loss: 0.0228 - val_loss: 0.1196\n",
            "Epoch 166/200\n",
            "17/17 [==============================] - 0s 9ms/step - loss: 0.0253 - val_loss: 0.0552\n",
            "Epoch 167/200\n",
            "17/17 [==============================] - 0s 9ms/step - loss: 0.0227 - val_loss: 0.0562\n",
            "Epoch 168/200\n",
            "17/17 [==============================] - 0s 8ms/step - loss: 0.0232 - val_loss: 0.0831\n",
            "Epoch 169/200\n",
            "17/17 [==============================] - 0s 9ms/step - loss: 0.0222 - val_loss: 0.0456\n",
            "Epoch 170/200\n",
            "17/17 [==============================] - 0s 8ms/step - loss: 0.0233 - val_loss: 0.0658\n",
            "Epoch 171/200\n",
            "17/17 [==============================] - 0s 9ms/step - loss: 0.0241 - val_loss: 0.0687\n",
            "Epoch 172/200\n",
            "17/17 [==============================] - 0s 8ms/step - loss: 0.0212 - val_loss: 0.0403\n",
            "Epoch 173/200\n",
            "17/17 [==============================] - 0s 9ms/step - loss: 0.0219 - val_loss: 0.0584\n",
            "Epoch 174/200\n",
            "17/17 [==============================] - 0s 9ms/step - loss: 0.0215 - val_loss: 0.0598\n",
            "Epoch 175/200\n",
            "17/17 [==============================] - 0s 9ms/step - loss: 0.0206 - val_loss: 0.0725\n",
            "Epoch 176/200\n",
            "17/17 [==============================] - 0s 9ms/step - loss: 0.0259 - val_loss: 0.0913\n",
            "Epoch 177/200\n",
            "17/17 [==============================] - 0s 9ms/step - loss: 0.0235 - val_loss: 0.0375\n",
            "Epoch 178/200\n",
            "17/17 [==============================] - 0s 10ms/step - loss: 0.0247 - val_loss: 0.0448\n",
            "Epoch 179/200\n",
            "17/17 [==============================] - 0s 9ms/step - loss: 0.0225 - val_loss: 0.0436\n",
            "Epoch 180/200\n",
            "17/17 [==============================] - 0s 9ms/step - loss: 0.0216 - val_loss: 0.0902\n",
            "Epoch 181/200\n",
            "17/17 [==============================] - 0s 9ms/step - loss: 0.0212 - val_loss: 0.0500\n",
            "Epoch 182/200\n",
            "17/17 [==============================] - 0s 9ms/step - loss: 0.0218 - val_loss: 0.0667\n",
            "Epoch 183/200\n",
            "17/17 [==============================] - 0s 9ms/step - loss: 0.0210 - val_loss: 0.0815\n",
            "Epoch 184/200\n",
            "17/17 [==============================] - 0s 9ms/step - loss: 0.0217 - val_loss: 0.0850\n",
            "Epoch 185/200\n",
            "17/17 [==============================] - 0s 9ms/step - loss: 0.0209 - val_loss: 0.0440\n",
            "Epoch 186/200\n",
            "17/17 [==============================] - 0s 9ms/step - loss: 0.0211 - val_loss: 0.0748\n",
            "Epoch 187/200\n",
            "17/17 [==============================] - 0s 9ms/step - loss: 0.0212 - val_loss: 0.0709\n",
            "Epoch 188/200\n",
            "17/17 [==============================] - 0s 9ms/step - loss: 0.0203 - val_loss: 0.0958\n",
            "Epoch 189/200\n",
            "17/17 [==============================] - 0s 9ms/step - loss: 0.0217 - val_loss: 0.0573\n",
            "Epoch 190/200\n",
            "17/17 [==============================] - 0s 9ms/step - loss: 0.0215 - val_loss: 0.0574\n",
            "Epoch 191/200\n",
            "17/17 [==============================] - 0s 9ms/step - loss: 0.0205 - val_loss: 0.0656\n",
            "Epoch 192/200\n",
            "17/17 [==============================] - 0s 9ms/step - loss: 0.0216 - val_loss: 0.0686\n",
            "Epoch 193/200\n",
            "17/17 [==============================] - 0s 9ms/step - loss: 0.0218 - val_loss: 0.0643\n",
            "Epoch 194/200\n",
            "17/17 [==============================] - 0s 9ms/step - loss: 0.0203 - val_loss: 0.1008\n",
            "Epoch 195/200\n",
            "17/17 [==============================] - 0s 9ms/step - loss: 0.0207 - val_loss: 0.0873\n",
            "Epoch 196/200\n",
            "17/17 [==============================] - 0s 9ms/step - loss: 0.0215 - val_loss: 0.0497\n",
            "Epoch 197/200\n",
            "17/17 [==============================] - 0s 9ms/step - loss: 0.0219 - val_loss: 0.1267\n",
            "Epoch 198/200\n",
            "17/17 [==============================] - 0s 9ms/step - loss: 0.0222 - val_loss: 0.0323\n",
            "Epoch 199/200\n",
            "17/17 [==============================] - 0s 9ms/step - loss: 0.0237 - val_loss: 0.0612\n",
            "Epoch 200/200\n",
            "17/17 [==============================] - 0s 9ms/step - loss: 0.0218 - val_loss: 0.0700\n",
            "4/4 [==============================] - 1s 6ms/step\n",
            "1/1 [==============================] - 0s 19ms/step\n",
            "[0.34670767]\n",
            "11\n",
            "1 month input [0.48476571 0.89829796 0.44274007 0.87980668 0.3765497  0.53057365\n",
            " 0.81992015 0.8113049  0.30594663 0.34670767]\n",
            "1 month output [[0.3335709]]\n",
            "2 month input [0.89829796 0.44274007 0.87980668 0.3765497  0.53057365 0.81992015\n",
            " 0.8113049  0.30594663 0.34670767 0.3335709 ]\n",
            "2 month output [[0.35741827]]\n",
            "3 month input [0.44274007 0.87980668 0.3765497  0.53057365 0.81992015 0.8113049\n",
            " 0.30594663 0.34670767 0.3335709  0.35741827]\n",
            "3 month output [[0.33806086]]\n",
            "4 month input [0.87980668 0.3765497  0.53057365 0.81992015 0.8113049  0.30594663\n",
            " 0.34670767 0.3335709  0.35741827 0.33806086]\n",
            "4 month output [[0.38212657]]\n",
            "5 month input [0.3765497  0.53057365 0.81992015 0.8113049  0.30594663 0.34670767\n",
            " 0.3335709  0.35741827 0.33806086 0.38212657]\n",
            "5 month output [[0.31895345]]\n",
            "6 month input [0.53057365 0.81992015 0.8113049  0.30594663 0.34670767 0.3335709\n",
            " 0.35741827 0.33806086 0.38212657 0.31895345]\n",
            "6 month output [[0.3455919]]\n",
            "7 month input [0.81992015 0.8113049  0.30594663 0.34670767 0.3335709  0.35741827\n",
            " 0.33806086 0.38212657 0.31895345 0.3455919 ]\n",
            "7 month output [[0.41237643]]\n",
            "8 month input [0.8113049  0.30594663 0.34670767 0.3335709  0.35741827 0.33806086\n",
            " 0.38212657 0.31895345 0.3455919  0.41237643]\n",
            "8 month output [[0.5148944]]\n",
            "9 month input [0.30594663 0.34670767 0.3335709  0.35741827 0.33806086 0.38212657\n",
            " 0.31895345 0.3455919  0.41237643 0.51489443]\n",
            "9 month output [[0.31934914]]\n",
            "10 month input [0.34670767 0.3335709  0.35741827 0.33806086 0.38212657 0.31895345\n",
            " 0.3455919  0.41237643 0.51489443 0.31934914]\n",
            "10 month output [[0.33446577]]\n",
            "11 month input [0.3335709  0.35741827 0.33806086 0.38212657 0.31895345 0.3455919\n",
            " 0.41237643 0.51489443 0.31934914 0.33446577]\n",
            "11 month output [[0.32654384]]\n",
            "Keyboard interruption in main thread... closing server.\n"
          ]
        },
        {
          "output_type": "execute_result",
          "data": {
            "text/plain": [
              "(<gradio.routes.App at 0x7f9067fd45d0>, 'http://127.0.0.1:7860/', None)"
            ]
          },
          "metadata": {},
          "execution_count": 37
        }
      ],
      "source": [
        "import gradio as gr\n",
        "\n",
        "\n",
        "demo = gr.Interface(fn=realoutput, inputs=[gr.inputs.Slider(0,50),gr.inputs.Slider(0,50)], outputs='text')\n",
        "\n",
        "demo.launch(debug=True)"
      ]
    }
  ],
  "metadata": {
    "accelerator": "GPU",
    "colab": {
      "provenance": []
    },
    "gpuClass": "standard",
    "kernelspec": {
      "display_name": "Python 3",
      "name": "python3"
    },
    "language_info": {
      "name": "python"
    }
  },
  "nbformat": 4,
  "nbformat_minor": 0
}